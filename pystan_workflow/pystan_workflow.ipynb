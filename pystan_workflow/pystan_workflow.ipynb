{
 "cells": [
  {
   "cell_type": "markdown",
   "metadata": {},
   "source": [
    "# Robust Statistical Workflow with PyStan\n",
    "\n",
    "Stan and its implementation of dynamic Hamiltonian Monte Carlo is an extremely powerful tool for specifying and then fitting complex Bayesian models.  In order to ensure a robust analysis, however, that power must be complemented with discretion.\n",
    "\n",
    "In particular, while dynamic implementations of Hamiltonian Monte Carlo, i.e. implementations where the integration time is dynamic, do perform well over a large class of models their success is not guaranteed.  When they do fail, however, their failures manifest in diagnostics that are readily checked.\n",
    "\n",
    "By acknowledging and respecting these diagnostics you can ensure that Stan is accurately fitting the Bayesian posterior and hence accurately characterizing your model.  And only with an accurate characterization of your model can you utilize its insights."
   ]
  },
  {
   "cell_type": "markdown",
   "metadata": {},
   "source": [
    "## A Little Bit About Markov Chain Monte Carlo\n",
    "\n",
    "Hamiltonian Monte Carlo is an implementation of Markov chain Monte Carlo, which approximates expectations with respect to a given target distribution, $\\pi$,\n",
    "$$\n",
    "\\mathbb{E}_{\\pi} [ f ] = \\int \\mathrm{d}q \\, \\pi (q) \\, f(q),\n",
    "$$\n",
    "using the states of a Markov chain, $\\{q_{0}, \\ldots, q_{N} \\}$,\n",
    "$$\n",
    "\\mathbb{E}_{\\pi} [ f ] \\approx\n",
    "\\hat{f}_{N} = \\frac{1}{N + 1} \\sum_{n = 0}^{N} f(q_{n}).\n",
    "$$\n",
    "Typically the target distribution is taken to be the posterior distribution of our specified model.\n",
    "\n",
    "These estimators are guaranteed to be accurate only _asymptotically_,\n",
    "as the Markov chain grows to be infinitely long,\n",
    "$$\n",
    "\\lim_{N \\rightarrow \\infty} \\hat{f}_{N} = \\mathbb{E}_{\\pi} [ f ].\n",
    "$$\n",
    "\n",
    "To be useful in applied analyses, we need these Markov chain Monte Carlo estimators to converge to the true expectation values sufficiently quickly that they are reasonably accurate\n",
    "_before_ we exhaust our finite computational resources.  This fast convergence\n",
    "requires strong ergodicity conditions to hold, typically _geometric\n",
    "ergodicity_ between the Markov transition and target distribution.  In particular, geometric\n",
    "ergodicity is a sufficient condition for Markov chain Monte Carlo estimators to follow\n",
    "a central limit theorem, which ensures not only that they are unbiased\n",
    "after only a finite number of iterations but also that we can empirically\n",
    "quantify their precision,\n",
    "$$\n",
    "\\hat{f}_{N} - \\mathbb{E}_{\\pi} [ f ] \\sim \\mathcal{N} \\! \\left( 0, \\sqrt{ \\mathrm{Var}[f] / N_{\\mathrm{eff}}} \\right).\n",
    "$$\n",
    "\n",
    "Unfortunately proving geometric ergodicity theoretically is infeasible for\n",
    "any nontrivial problem.  Instead we must rely on empirical diagnostics that\n",
    "identify _obstructions_ to geometric ergodicity, and hence well-behaved Markov chain Monte Carlo estimators.  For a general Markov transition and target distribution, the best\n",
    "known diagnostic is the split $\\hat{R}$ statistic over an ensemble of Markov\n",
    "chains initialized from diffuse points in parameter space.  To do any better we\n",
    "need to exploit the particular structure of a given transition or target\n",
    "distribution.\n",
    "\n",
    "Hamiltonian Monte Carlo, for example, is especially powerful in this regard as\n",
    "its failures to be geometrically ergodic with respect to any target distribution\n",
    "manifest in distinct behaviors that have been developed into sensitive\n",
    "diagnostics.  One of these behaviors is the appearance of _divergences_ that\n",
    "indicate the Hamiltonian Markov chain has encountered regions of high curvature\n",
    "in the target distribution which it cannot adequately explore.  Another is the _energy Bayesian fraction of missing information_, or E-BFMI, which quantifies the efficacy of the momentum resampling in between Hamiltonian trajectories.\n",
    "\n",
    "In this case study I will demonstrate the recommended Stan workflow in Python where we not only fit a model but also scrutizing these diagnostics and ensure an accurate fit.\n"
   ]
  },
  {
   "cell_type": "markdown",
   "metadata": {},
   "source": [
    "## Setting Up The PyStan Environment\n",
    "\n",
    "We begin by importing the PyStan module as well at the matplotlib module for basic graphics facilities."
   ]
  },
  {
   "cell_type": "code",
   "execution_count": 9,
   "metadata": {
    "collapsed": false
   },
   "outputs": [],
   "source": [
    "import pystan\n",
    "import matplotlib\n",
    "import matplotlib.pyplot as plot"
   ]
  },
  {
   "cell_type": "markdown",
   "metadata": {},
   "source": [
    "Unfortunately diagnostics are a bit ungainly to check in PyStan 2.16.0, so to facilitate the workflow I have included a utilty module with some useful functions."
   ]
  },
  {
   "cell_type": "code",
   "execution_count": 41,
   "metadata": {
    "collapsed": false
   },
   "outputs": [
    {
     "name": "stdout",
     "output_type": "stream",
     "text": [
      "Help on module stan_utility:\n",
      "\n",
      "NAME\n",
      "    stan_utility\n",
      "\n",
      "FILE\n",
      "    /Users/Betancourt/Documents/Research/Code/betanalpha/jupyter_case_studies/divergences_and_bias/stan_utility.py\n",
      "\n",
      "FUNCTIONS\n",
      "    check_div(sampler_params)\n",
      "    \n",
      "    check_energy(sampler_params)\n",
      "    \n",
      "    check_treedepth(sampler_params, max_depth=10)\n",
      "    \n",
      "    compile_model(filename, model_name=None, **kwargs)\n",
      "        This will automatically cache models - great if you're just running a\n",
      "        script on the command line.\n",
      "        \n",
      "        See http://pystan.readthedocs.io/en/latest/avoiding_recompilation.html\n",
      "    \n",
      "    md5 = openssl_md5(...)\n",
      "        Returns a md5 hash object; optionally initialized with a string\n",
      "    \n",
      "    partition_div(fit)\n",
      "\n",
      "DATA\n",
      "    __warningregistry__ = {('the md5 module is deprecated; use hashlib ins...\n",
      "\n",
      "\n"
     ]
    }
   ],
   "source": [
    "import stan_utility\n",
    "help(stan_utility)"
   ]
  },
  {
   "cell_type": "markdown",
   "metadata": {
    "collapsed": true
   },
   "source": [
    "## Specifying and Fitting A Model in Stan\n",
    "\n",
    "To demonstrate the recommended Stan workflow let's consider a hierarchical model of the Eight Schools dataset,\n",
    "\n",
    "$$\\mu \\sim \\mathcal{N}(0, 5)$$\n",
    "\n",
    "$$\\tau \\sim \\text{Half-Cauchy}(0, 5)$$\n",
    "\n",
    "$$\\theta_{n} \\sim \\mathcal{N}(\\mu, \\tau)$$\n",
    "\n",
    "$$y_{n} \\sim \\mathcal{N}(\\theta_{n}, \\sigma_{n}),$$\n",
    "\n",
    "where $n \\in \\left\\{1, \\ldots, 8 \\right\\}$ and the\n",
    "$\\left\\{ y_{n}, \\sigma_{n} \\right\\}$ are given as data. "
   ]
  },
  {
   "cell_type": "markdown",
   "metadata": {},
   "source": [
    "### Specifying the Model with a Stan Program\n",
    "\n",
    "In particular, let's implement a centered-parameterization of the model which is known to frustrate even sophisticated samplers like Hamiltonian Monte Carlo.  In Stan the centered parameterization is specified with the Stan program"
   ]
  },
  {
   "cell_type": "code",
   "execution_count": 42,
   "metadata": {
    "collapsed": false
   },
   "outputs": [
    {
     "name": "stdout",
     "output_type": "stream",
     "text": [
      "data {\n",
      "  int<lower=0> J;\n",
      "  real y[J];\n",
      "  real<lower=0> sigma[J];\n",
      "}\n",
      "\n",
      "parameters {\n",
      "  real mu;\n",
      "  real<lower=0> tau;\n",
      "  real theta[J];\n",
      "}\n",
      "\n",
      "model {\n",
      "  mu ~ normal(0, 5);\n",
      "  tau ~ cauchy(0, 5);\n",
      "  theta ~ normal(mu, tau);\n",
      "  y ~ normal(theta, sigma);\n",
      "}\n",
      "\n"
     ]
    }
   ],
   "source": [
    "with open('eight_schools_cp.stan', 'r') as file:\n",
    "    print file.read()"
   ]
  },
  {
   "cell_type": "markdown",
   "metadata": {},
   "source": [
    "Note that we have specified the Stan program in its own file.  We strongly recommend keeping your workflow modular by separating the Stan program the Python environment in this way.  Not only does it make it easier to identify and read through the Stan-specific components of your anaylsis, it also makes it easy to share your models Stan users exploiting workflows in environments, such as R and the command line.\n",
    "\n",
    "Given the Stan program we then use the `compile_model` method of our `stan_utility` module to compile the Stan program into a C++ executable,"
   ]
  },
  {
   "cell_type": "code",
   "execution_count": 43,
   "metadata": {
    "collapsed": false
   },
   "outputs": [
    {
     "name": "stdout",
     "output_type": "stream",
     "text": [
      "Using cached StanModel\n"
     ]
    }
   ],
   "source": [
    "model = stan_utility.compile_model('eight_schools_cp.stan')"
   ]
  },
  {
   "cell_type": "markdown",
   "metadata": {},
   "source": [
    "This is not technically necessary, but it allows us to cache the executable and run this model with Stan multiple times without having to recompile between each run."
   ]
  },
  {
   "cell_type": "markdown",
   "metadata": {},
   "source": [
    "### Specifying the Data\n",
    "\n",
    "Similarly, we strongly recommend that you specify the data in its own file.  \n",
    "\n",
    "Data specified in a Python dictionary can be immediately converted to an external Stan data file using PyStan's `stan_rdump` function,"
   ]
  },
  {
   "cell_type": "code",
   "execution_count": 15,
   "metadata": {
    "collapsed": true
   },
   "outputs": [],
   "source": [
    "data = dict(J = 8, y = [28,  8, -3,  7, -1,  1, 18, 12], \n",
    "            sigma = [15, 10, 16, 11,  9, 11, 10, 18])\n",
    "\n",
    "pystan.stan_rdump(data, 'eight_schools.data.R')"
   ]
  },
  {
   "cell_type": "markdown",
   "metadata": {},
   "source": [
    "At the same time, an existing Stan data file can be read into the Python environment using the `read_rdump` function,"
   ]
  },
  {
   "cell_type": "code",
   "execution_count": 44,
   "metadata": {
    "collapsed": true
   },
   "outputs": [],
   "source": [
    "data = pystan.read_rdump('eight_schools.data.R')"
   ]
  },
  {
   "cell_type": "markdown",
   "metadata": {},
   "source": [
    "### Fitting the Model\n",
    "\n",
    "With the model and data specified we can now turn to Stan to quantify the resulting posterior distribution with Hamiltonian Monte Carlo,"
   ]
  },
  {
   "cell_type": "code",
   "execution_count": 45,
   "metadata": {
    "collapsed": false
   },
   "outputs": [],
   "source": [
    "fit = model.sampling(data=data, seed=194838)"
   ]
  },
  {
   "cell_type": "markdown",
   "metadata": {},
   "source": [
    "We recommend explicitly specifying the seed of Stan's random number generator, as we have done here, so that we can reproduce these exactly results in the future.  This is especially helpful for the more subtle pathologies that may not always be found, which results in seemingly stochastic behavior.\n",
    "\n",
    "By default the `sampling` method runs 4 Markov chains of Hamiltonian Monte Carlo in parallel, each initialized from a diffuse initial condition to maximize the probability that at least one of the chains might encounter a pathological neighborhood of the posterior, if it exists.\n",
    "Each of those chains proceeds with 1000 warmup iterations and 1000 sampling iterations, totaling 4000 sampling iterations available for diagnostics and analysis."
   ]
  },
  {
   "cell_type": "markdown",
   "metadata": {},
   "source": [
    "## Validating a Fit in Stan\n",
    "\n",
    "We are not ready to validate the fit using the `sampler_params` contained in the `fit` object,\n"
   ]
  },
  {
   "cell_type": "code",
   "execution_count": 46,
   "metadata": {
    "collapsed": true
   },
   "outputs": [],
   "source": [
    "sampler_params = fit.get_sampler_params(inc_warmup=False)"
   ]
  },
  {
   "cell_type": "markdown",
   "metadata": {},
   "source": [
    "### Checking Split $\\hat{R}$ and Effective Sample Sizes\n",
    "\n",
    "The first diagnostics we check are universal to Markov chain Monte Carlo and are displaying using the `print` method of the `fit` object,"
   ]
  },
  {
   "cell_type": "code",
   "execution_count": 47,
   "metadata": {
    "collapsed": false
   },
   "outputs": [
    {
     "name": "stdout",
     "output_type": "stream",
     "text": [
      "Inference for Stan model: anon_model_71b609c34d59a40b345b5328a36dbb39.\n",
      "4 chains, each with iter=2000; warmup=1000; thin=1; \n",
      "post-warmup draws per chain=1000, total post-warmup draws=4000.\n",
      "\n",
      "           mean se_mean     sd   2.5%    25%    50%    75%  97.5%  n_eff   Rhat\n",
      "mu         4.28    0.14   2.97  -1.79   2.51   4.38   6.05  10.55  482.0   1.01\n",
      "tau        3.46    0.27   2.94   0.65   1.26   2.66   4.65  11.19  117.0   1.06\n",
      "theta[0]   5.89     0.2    5.2  -2.97   3.04   4.93   8.22  18.53  652.0   1.01\n",
      "theta[1]   4.67    0.15   4.29  -3.76   2.23   3.96   7.03  14.08  780.0    1.0\n",
      "theta[2]   3.83    0.16   4.75  -6.22   1.31   4.21   6.38  12.71  909.0    1.0\n",
      "theta[3]   4.66    0.15   4.38  -4.14   2.38   4.74   7.01  14.33  892.0    1.0\n",
      "theta[4]   3.61    0.16   4.38  -6.53   1.37   3.88   5.91  11.83  742.0   1.01\n",
      "theta[5]   3.86    0.16   4.54  -6.14   1.62   3.93   6.33  12.83  846.0    1.0\n",
      "theta[6]   5.96    0.22   4.75  -1.96   2.91   4.84   8.35  17.36  461.0   1.01\n",
      "theta[7]   4.64    0.14   4.93  -5.22   2.16   4.82   7.18   14.9 1250.0    1.0\n",
      "lp__     -13.81    1.34   6.55  -25.5 -18.62 -14.24  -9.09  -2.42   24.0   1.18\n",
      "\n",
      "Samples were drawn using NUTS at Mon Jul 17 14:21:55 2017.\n",
      "For each parameter, n_eff is a crude measure of effective sample size,\n",
      "and Rhat is the potential scale reduction factor on split chains (at \n",
      "convergence, Rhat=1).\n"
     ]
    }
   ],
   "source": [
    "print(fit)"
   ]
  },
  {
   "cell_type": "markdown",
   "metadata": {},
   "source": [
    "Firstly we want to ensure that the split $\\hat{R}$ for each parameter is close to 1.  Empirically we have found that `Rhat > 1.1` is usually indicative of problems in the fit.  Here all of the parameters look good except for the log posterior density, `lp__`, which should inspire some small hesitation in our fit.\n",
    "\n",
    "Then we want to consider the effective sample size, or `n_eff`.  The issue here is related to the fact that we are _estimating_ the effective sample size from the fit output.  When `n_eff / n_transitions < 0.001` the estimators that we use are often biased and can significantly overestimate the true effective sample size.\n",
    "\n",
    "Both large split $\\hat{R}$ and low effective samples per transition are consequences of poorly mixing Markov chains.  Improving the mixing of the Markov chains almost always requires tweaking the model specification, for example with a reparameterization or stronger priors."
   ]
  },
  {
   "cell_type": "markdown",
   "metadata": {},
   "source": [
    "\n",
    "### Checking the Treedepth\n",
    "\n",
    "The dynamic implementation of Hamiltonian Monte Carlo used in Stan has a maximum trajectory length built in to avoid infinite loops that can occur for non-identified models.  For sufficiently complex models, however, Stan can saturate this threshold even if the model is identified, which limits the efficacy of the sampler.  \n",
    "\n",
    "We can check whether that threshold was hit using one of our utility functions,"
   ]
  },
  {
   "cell_type": "code",
   "execution_count": 48,
   "metadata": {
    "collapsed": false
   },
   "outputs": [
    {
     "name": "stdout",
     "output_type": "stream",
     "text": [
      "0 of 4000 iterations saturated the maximum tree depth of 10(0%)\n"
     ]
    }
   ],
   "source": [
    "stan_utility.check_treedepth(sampler_params)"
   ]
  },
  {
   "cell_type": "markdown",
   "metadata": {},
   "source": [
    "We're good here, but if our fit had saturated the threshold then we would have wanted to rerun with a larger maximum threedepth,"
   ]
  },
  {
   "cell_type": "code",
   "execution_count": 22,
   "metadata": {
    "collapsed": true
   },
   "outputs": [],
   "source": [
    "# fit = model.sampling(data=data, seed=194838, control=dict(max_treedepth=15))"
   ]
  },
  {
   "cell_type": "markdown",
   "metadata": {},
   "source": [
    "and then check if still saturated this larger threshold with"
   ]
  },
  {
   "cell_type": "code",
   "execution_count": 49,
   "metadata": {
    "collapsed": true
   },
   "outputs": [],
   "source": [
    "# stan_utility.check_treedepth(sampler_params, 15)"
   ]
  },
  {
   "cell_type": "markdown",
   "metadata": {},
   "source": [
    "### Checking the E-BFMI\n",
    "\n",
    "Hamiltonian Monte Carlo proceeds in two phases -- the algorithm first simulates a Hamiltonian trajectory that rapidly explores a slice of the target parameter space before resampling the auxiliary momenta to allow the next trajectory to explore another slice of the target parameter space.  Unfortunately, the jumps between these slices induced by the momenta resamplings can be short, which often leads to slow exploration.  \n",
    "\n",
    "We can identify this problem by consulting the energy Bayesian Fraction of Missing Information,"
   ]
  },
  {
   "cell_type": "code",
   "execution_count": 50,
   "metadata": {
    "collapsed": false
   },
   "outputs": [
    {
     "name": "stdout",
     "output_type": "stream",
     "text": [
      "Chain 2: E-BFMI = 0.177681346951\n",
      "Low E-BFMI indicates you may need to reparameterize your model\n"
     ]
    }
   ],
   "source": [
    "stan_utility.check_energy(sampler_params)"
   ]
  },
  {
   "cell_type": "markdown",
   "metadata": {},
   "source": [
    "The `stan_utility` module uses the threshold of 0.2 to diagnose problems, although this is based on preliminary empirical studies and should be taken only as a very rough recommendation.  In particular, this diagnostic comes out of recent theoretical work and will be better understood as we apply it to more and more problems.\n",
    "\n",
    "As with split $\\hat{R}$ and effective sample size per transition, the problems indicated by low E-BFMI are remedied by tweaking the specification of the model.  Unfortunately the exact tweaks required depend on the exact structure of the model and, consequently, there are not generic solutions."
   ]
  },
  {
   "cell_type": "markdown",
   "metadata": {},
   "source": [
    "### Checking Divergences\n",
    "\n",
    "Finally, we can check divergences which indicate pathological neighborhoods of the posterior that the simulted Hamiltonian trajectories are not able to explore sufficiently well.  For this fit we have a significant number of divergences"
   ]
  },
  {
   "cell_type": "code",
   "execution_count": 51,
   "metadata": {
    "collapsed": false
   },
   "outputs": [
    {
     "name": "stdout",
     "output_type": "stream",
     "text": [
      "202.0 of 4000 iterations ended with a divergence(5.05%)\n",
      "Try running with larger adapt_delta to remove the divergences\n"
     ]
    }
   ],
   "source": [
    "stan_utility.check_div(sampler_params)"
   ]
  },
  {
   "cell_type": "markdown",
   "metadata": {},
   "source": [
    "indicating that the Markov chains did not completely explore the posterior and that our Markov chain Monte Carlo estimators will be biased.\n",
    "\n",
    "Divergences, however, can sometimes be false positives.  To verify that we have fitting issues we can rerun with a larger target acceptance probability, `adapt_delta`, which will force more accurate simulations of Hamiltonian trajectories and reduce the false positives."
   ]
  },
  {
   "cell_type": "code",
   "execution_count": 52,
   "metadata": {
    "collapsed": true
   },
   "outputs": [],
   "source": [
    "fit = model.sampling(data=data, seed=194838, control=dict(adapt_delta=0.9))"
   ]
  },
  {
   "cell_type": "markdown",
   "metadata": {},
   "source": [
    "Checking again,"
   ]
  },
  {
   "cell_type": "code",
   "execution_count": 53,
   "metadata": {
    "collapsed": false,
    "scrolled": true
   },
   "outputs": [
    {
     "name": "stdout",
     "output_type": "stream",
     "text": [
      "45.0 of 4000 iterations ended with a divergence(1.125%)\n",
      "Try running with larger adapt_delta to remove the divergences\n"
     ]
    }
   ],
   "source": [
    "sampler_params = fit.get_sampler_params(inc_warmup=False)\n",
    "stan_utility.check_div(sampler_params)"
   ]
  },
  {
   "cell_type": "markdown",
   "metadata": {},
   "source": [
    "we see that while the divergences were reduced they did not completely vanish.  In order to argue that divergences are only false positives, the divergences have to be completely eliminated for some `adapt_delta` sufficiently close to 1.  Here we could continue increasing `adapt_delta` (where we would see that the divergences do not completely vanish), or we can analyze the existing divergences graphically.\n",
    "\n",
    "If the divergences are not false positives then they will tend to concentrate in the pathological neighborhoods of the posterior.  Falsely positive divergent iterations, however, will be distributed the same as non-divergent iterations.\n",
    "\n",
    "Here we will use the `partition_div` function of the `stan_utility` module to separate divergence and non-divergent iterations, but note that this function works only if your model parameters are reals, vectors, or arrays of reals.  More robust functionality is planned for future releases of PyStan."
   ]
  },
  {
   "cell_type": "code",
   "execution_count": 55,
   "metadata": {
    "collapsed": false
   },
   "outputs": [
    {
     "name": "stderr",
     "output_type": "stream",
     "text": [
      "WARNING:root:`dtypes` ignored when `permuted` is False.\n"
     ]
    },
    {
     "data": {
      "image/png": "[encoded data removed]",
      "text/plain": [
       "<matplotlib.figure.Figure at 0x10fd82590>"
      ]
     },
     "metadata": {},
     "output_type": "display_data"
    }
   ],
   "source": [
    "light=\"#DCBCBC\"\n",
    "light_highlight=\"#C79999\"\n",
    "mid=\"#B97C7C\"\n",
    "mid_highlight=\"#A25050\"\n",
    "dark=\"#8F2727\"\n",
    "dark_highlight=\"#7C0000\"\n",
    "green=\"#00FF00\"\n",
    "\n",
    "nondiv_params, div_params = stan_utility.partition_div(fit)\n",
    "\n",
    "plot.scatter([x[0] for x in nondiv_params['theta']], nondiv_params['tau'], \\\n",
    "             color = mid_highlight, alpha=0.05)\n",
    "plot.scatter([x[0] for x in div_params['theta']], div_params['tau'], \\\n",
    "             color = green, alpha=0.5)\n",
    "\n",
    "plot.gca().set_xlabel(\"theta_1\")\n",
    "plot.gca().set_ylabel(\"tau\")\n",
    "\n",
    "plot.show()"
   ]
  },
  {
   "cell_type": "markdown",
   "metadata": {},
   "source": [
    "One of the challenges with a visual analysis of divergences is determining exactly which parameters to examine.  Consequently visual analyses are most useful when there are already components of the model about which you are suspicious, as in this case where we know that the correlation between random effects (`theta_1` through `theta_8`) and the hierarchical standard deviation, `tau`, can be problematic.\n",
    "\n",
    "Indeed we see the divergences clustering towards small values of tau where the posterior abruptly stops.  This abrupt stop is indicative of a transition into a pathological neighborhood that Stan was not able to penetrate.\n",
    "\n",
    "In order to avoid this issue we have to consider a modification to our model, and in this case we can appeal to a _non-centered parameterization_ of the same model that does not suffer these issues."
   ]
  },
  {
   "cell_type": "markdown",
   "metadata": {},
   "source": [
    "## A Successful Fit\n",
    "\n",
    "Multiple diagostics have indicated that our fit of the centered parameterization of our hierarchical model is not to be trusted, so let's instead consider the complementary non-centered parameterization,"
   ]
  },
  {
   "cell_type": "code",
   "execution_count": 36,
   "metadata": {
    "collapsed": false
   },
   "outputs": [
    {
     "name": "stdout",
     "output_type": "stream",
     "text": [
      "data {\n",
      "  int<lower=0> J;\n",
      "  real y[J];\n",
      "  real<lower=0> sigma[J];\n",
      "}\n",
      "\n",
      "parameters {\n",
      "  real mu;\n",
      "  real<lower=0> tau;\n",
      "  real theta_tilde[J];\n",
      "}\n",
      "\n",
      "transformed parameters {\n",
      "  real theta[J];\n",
      "  for (j in 1:J)\n",
      "    theta[j] = mu + tau * theta_tilde[j];\n",
      "}\n",
      "\n",
      "model {\n",
      "  mu ~ normal(0, 5);\n",
      "  tau ~ cauchy(0, 5);\n",
      "  theta_tilde ~ normal(0, 1);\n",
      "  y ~ normal(theta, sigma);\n",
      "}\n",
      "\n"
     ]
    }
   ],
   "source": [
    "with open('eight_schools_ncp.stan', 'r') as file:\n",
    "    print file.read()"
   ]
  },
  {
   "cell_type": "code",
   "execution_count": 37,
   "metadata": {
    "collapsed": false
   },
   "outputs": [
    {
     "name": "stderr",
     "output_type": "stream",
     "text": [
      "INFO:pystan:COMPILING THE C++ CODE FOR MODEL anon_model_b4ca739f9fe7ffcdbf0d530f00d0a587 NOW.\n"
     ]
    }
   ],
   "source": [
    "model = stan_utility.compile_model('eight_schools_ncp.stan')\n",
    "fit = model.sampling(data=data, seed=194838)"
   ]
  },
  {
   "cell_type": "code",
   "execution_count": 39,
   "metadata": {
    "collapsed": false
   },
   "outputs": [
    {
     "name": "stdout",
     "output_type": "stream",
     "text": [
      "Inference for Stan model: anon_model_b4ca739f9fe7ffcdbf0d530f00d0a587.\n",
      "4 chains, each with iter=2000; warmup=1000; thin=1; \n",
      "post-warmup draws per chain=1000, total post-warmup draws=4000.\n",
      "\n",
      "                 mean se_mean     sd   2.5%    25%    50%    75%  97.5%  n_eff   Rhat\n",
      "mu               4.37    0.05   3.39  -2.49    2.1   4.51   6.69  10.94 4000.0    1.0\n",
      "tau              3.59    0.06   3.19   0.13   1.27   2.79   4.95  11.68 2761.0    1.0\n",
      "theta_tilde[0]   0.31    0.02   0.96  -1.61  -0.34   0.32   0.95   2.16 4000.0    1.0\n",
      "theta_tilde[1]    0.1    0.01   0.92  -1.72  -0.51   0.12   0.72    1.9 3766.0    1.0\n",
      "theta_tilde[2]  -0.08    0.02   0.98   -2.0  -0.74  -0.08   0.55   1.91 4000.0    1.0\n",
      "theta_tilde[3]   0.05    0.01   0.94  -1.86  -0.57   0.07   0.68   1.87 4000.0    1.0\n",
      "theta_tilde[4]  -0.16    0.02   0.95  -2.03  -0.79  -0.17   0.47   1.71 3681.0    1.0\n",
      "theta_tilde[5]  -0.09    0.01   0.92  -1.95  -0.71   -0.1   0.52   1.76 3787.0    1.0\n",
      "theta_tilde[6]   0.37    0.02   0.97  -1.62  -0.26   0.38   1.01   2.28 4000.0    1.0\n",
      "theta_tilde[7]   0.09    0.02   0.96  -1.77  -0.56   0.11   0.74   1.92 4000.0    1.0\n",
      "theta[0]         6.15    0.09   5.53  -3.49   2.76   5.66   8.88  19.12 4000.0    1.0\n",
      "theta[1]          4.9    0.07   4.56  -4.39   2.04    4.9   7.77  14.09 4000.0    1.0\n",
      "theta[2]         3.91    0.08   5.37  -7.72   0.98   4.19   7.18  13.58 4000.0    1.0\n",
      "theta[3]         4.63    0.08    4.8  -5.02    1.7   4.68   7.57  14.11 4000.0    1.0\n",
      "theta[4]         3.62    0.08   4.79  -7.34   0.89   3.97   6.71  12.27 4000.0    1.0\n",
      "theta[5]         3.97    0.07   4.73   -6.0   1.22   4.15   6.96   12.7 4000.0    1.0\n",
      "theta[6]         6.37    0.08   5.07  -2.22   3.04   5.97   9.02  18.49 4000.0    1.0\n",
      "theta[7]         4.92    0.08   5.32  -5.75   1.82   4.86   7.91  15.68 4000.0    1.0\n",
      "lp__            -6.91    0.06   2.34 -12.17  -8.29  -6.56  -5.23  -3.32 1754.0    1.0\n",
      "\n",
      "Samples were drawn using NUTS at Mon Jul 17 14:09:48 2017.\n",
      "For each parameter, n_eff is a crude measure of effective sample size,\n",
      "and Rhat is the potential scale reduction factor on split chains (at \n",
      "convergence, Rhat=1).\n",
      "0 of 4000 iterations saturated the maximum tree depth of 10(0%)\n",
      "0.0 of 4000 iterations ended with a divergence(0.0%)\n"
     ]
    }
   ],
   "source": [
    "print(fit)\n",
    "\n",
    "sampler_params = fit.get_sampler_params(inc_warmup=False)\n",
    "stan_utility.check_treedepth(sampler_params)\n",
    "stan_utility.check_energy(sampler_params)\n",
    "stan_utility.check_div(sampler_params)"
   ]
  },
  {
   "cell_type": "markdown",
   "metadata": {},
   "source": [
    "With this more appropriate implementation of our model all of the diagnostics are clean and we can now utilize Markov chain Monte Carlo estimators of expecations, such as parameter means and variances, to accurately characterize our model's posterior distribution."
   ]
  },
  {
   "cell_type": "markdown",
   "metadata": {},
   "source": [
    "## Awknowledgements\n",
    "\n",
    "I thank Sean Talts for helping to make the functions in `stan_utility` more Pythonic."
   ]
  },
  {
   "cell_type": "code",
   "execution_count": null,
   "metadata": {
    "collapsed": true
   },
   "outputs": [],
   "source": []
  }
 ],
 "metadata": {
  "anaconda-cloud": {},
  "kernelspec": {
   "display_name": "Python [conda root]",
   "language": "python",
   "name": "conda-root-py"
  },
  "language_info": {
   "codemirror_mode": {
    "name": "ipython",
    "version": 2
   },
   "file_extension": ".py",
   "mimetype": "text/x-python",
   "name": "python",
   "nbconvert_exporter": "python",
   "pygments_lexer": "ipython2",
   "version": "2.7.12"
  }
 },
 "nbformat": 4,
 "nbformat_minor": 1
}
