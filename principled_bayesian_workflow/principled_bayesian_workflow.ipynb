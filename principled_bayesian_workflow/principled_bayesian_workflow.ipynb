{
 "cells": [
  {
   "cell_type": "markdown",
   "metadata": {},
   "source": [
    "# Towards A Principled Bayesian Workflow\n",
    "_*Michael Betancourt*_<br>\n",
    "_*October 2018*_"
   ]
  },
  {
   "cell_type": "markdown",
   "metadata": {},
   "source": [
    "Given a probabilistic model and a particular observation, Bayesian inference is straightforward to implement.  Inferences, and any decisions based upon them, follow immediately in the form of expectations with respect to the corresponding posterior distribution.  Building a probabilistic model that is useful in a given application, however, is a far more open-ended challenge.  Unfortunately the process of model building is often ignored in introductory texts, leaving practitioners to piece together their own model building workflow from potentially incomplete or even inconsistent heuristics.\n",
    "\n",
    "In this case study I introduce a _principled_ workflow for building\n",
    "and evaluating probabilistic models in Bayesian inference.  This workflow is\n",
    "based on recent research in collaboration with Dan Simpson, Aki Vehtari, Sean\n",
    "Talts, and others; see, for example, Gabry et al. (2017).  The specific workflow\n",
    "that I advocated here, however, is my particular take on this research that is \n",
    "focused on the needs of modeling and inference in the physical sciences.  It \n",
    "does not necessarily reflect the perspectives of any of my collaborators and may \n",
    "prove to be limiting in other applications.\n",
    "\n",
    "Moreover, as this workflow is an active topic of research it is subject to\n",
    "evolution and refinement. Use it at your own risk.  But at the same time _don't_\n",
    "use at your own risk.  Better yet build a calibrated model, infer the relative\n",
    "risks, and then make a principled decision...\n",
    "\n",
    "We begin with a review of Bayesian inference and then a discussion of what \n",
    "properties we want in a probabilistic model and in what ways we can validate\n",
    "those properties.  I then introduce a workflow that implements these validations\n",
    "to guide the development of a useful model, emphasizing the role of each step \n",
    "and the expertise needed to implement them well.  Once the workflow has been \n",
    "laid out I demonstrate its application on a seemingly simple analysis that hides \n",
    "a few surprises."
   ]
  },
  {
   "cell_type": "markdown",
   "metadata": {},
   "source": [
    "# Bayesian Modeling and Inference\n",
    "\n",
    "In order to avoid any confusion due to the varied notations and vocabularies \n",
    "that abound in the statistical literature, let's first review the foundational \n",
    "concepts in Bayesian inference.  Be aware that I'll be taking an experimental \n",
    "perspective here, and that perspective may clash with different philosophical \n",
    "perspectives on Bayesian inference, or statistics in general, that are often \n",
    "emphasized in introductory texts.  Fortunately, in most cases the differences \n",
    "between these perspectives don't have any consequences for how the resulting\n",
    "inferences are implemented in practice.\n",
    "\n",
    "Let's first consider some phenomenon about which we want to learn.  Further \n",
    "let's assume that this phenomenon manifests in some latent system with which we \n",
    "can interact.  Importantly, this latent system contains not only the phenomenon \n",
    "of interest but also the surrounding environment that exhibits the phenomenon.\n",
    "\n",
    "In order to learn about this phenomenon we need to design an experiment that \n",
    "implements a _measurement process_.  The resulting measurements probes the \n",
    "latent system, generating data that is hopefully sensitive to the phenomenon of \n",
    "interest.  Note that I use the term experiment generally here to include also \n",
    "processes that collect, curate, and transform existing observations.  More \n",
    "formally we say that the realizations of the measurement process results is an \n",
    "_observation_, $\\tilde{y}$, that is an element of an _observation space_, $Y$.\n",
    "\n",
    "The measurement process however, is not deterministic.  There may be \n",
    "_ontological_ variability that results in different observations every time we \n",
    "probe the latent system, or _epistemic_ uncertainty that limits how accurately \n",
    "we can resolve the measurement.  Regardless of its interpretation, we presume\n",
    "that this complication is sufficiently regular that it can be quantified in a\n",
    "probability distribution over the observation space that we denote the _true \n",
    "data generating process_, $\\pi^{\\dagger}$.  Because of this limitation of the\n",
    "measurement process, the best we can ultimately learn about the underlying \n",
    "latent system, and hence the phenomenon of interest, is this true data \n",
    "generating process.\n",
    "\n",
    "Although we presume that a true data generating process exists, we don't know\n",
    "what form it will take in a given application.  Unfortunately the space of all \n",
    "possible data generating processes, $\\mathcal{P}$, is far too large and \n",
    "mathematically ungainly to consider, so in practice we have to limit our search \n",
    "to a _small world_, $\\mathcal{S}$, or _observational model_ of possible data \n",
    "generating processes.  \n",
    "\n",
    "<br><br>\n",
    "![](figures/small_world/small_world/small_world.png)\n",
    "<br><br>\n",
    "\n",
    "Each element of the observational model, or each _model configuration_, defines \n",
    "a probability distribution over the observation space which quantifies a \n",
    "mathematical narrative of how the data could be generated, encapsulating the \n",
    "phenomenon of interest as well as any systematic phenomena encountered from the \n",
    "latent system through the measurement process.  We can then use the assumed\n",
    "observational model to learn from observations, making inferences and informing \n",
    "decisions about the latent system that we're studying.  In practice we specify \n",
    "an observational model with a collection of probability densities, \n",
    "$\\pi_{\\mathcal{S}} (y ; \\theta)$, with each _parameter_, $\\theta$, identifying a unique\n",
    "model configuration.\n",
    "\n",
    "<br><br>\n",
    "![](figures/model_config/model_config.png)\n",
    "<br><br>\n",
    "\n",
    "Bayesian inference encodes information about the observational model in\n",
    "probability distributions -- the more probability a distribution assigns to a \n",
    "neighborhood of model configurations, the more consistent those model \n",
    "configurations are with our available information.  From this perspective the \n",
    "model configuration space is no longer just a collection of data generating \n",
    "processes but also a conditional probability distribution over the product \n",
    "of the observation space and the small world, $Y \\times \\mathcal{S}$,\n",
    "$$\n",
    "\\pi_{\\mathcal{S}}(y ; \\theta) = \\pi_{\\mathcal{S}}(y \\mid \\theta).\n",
    "$$\n",
    "\n",
    "Introducing a _prior distribution_, $\\pi_{\\mathcal{S}}(\\theta)$, that encodes \n",
    "domain expertise about the measurement process and latent system complements the \n",
    "observational model to give a _Bayesian joint distribution_,\n",
    "$$\n",
    "\\pi_{\\mathcal{S}}(y, \\theta) \n",
    "= \n",
    "\\pi_{\\mathcal{S}}(y ; \\theta) \\, \\pi_{\\mathcal{S}}(\\theta).\n",
    "$$\n",
    "Given the an explicit observation, $\\tilde{y}$, this joint distribution then\n",
    "defines a _posterior distribution_ that concentrates on those model\n",
    "configurations consistent with both our domain expertise and the measurement,\n",
    "$$\n",
    "\\pi_{\\mathcal{S}}(\\theta \\mid \\tilde{y}) \n",
    "= \n",
    "\\frac{ \\pi_{\\mathcal{S}}(\\tilde{y}, \\theta) }\n",
    "{ \\int \\mathrm{d} \\theta \\, \\pi_{\\mathcal{S}}(\\tilde{y}, \\theta) }\n",
    "\\propto\n",
    "\\pi_{\\mathcal{S}}(\\tilde{y}, \\theta).\n",
    "$$\n",
    "\n",
    "We can also interpret this process as _updating_ the prior distribution into\n",
    "a posterior distribution,\n",
    "$$\n",
    "\\pi_{\\mathcal{S}}(\\theta \\mid \\tilde{y}) \n",
    "=\n",
    "\\left( \\frac{ \\pi_{\\mathcal{S}}(\\tilde{y} \\mid \\theta) }\n",
    "{ \\pi_{\\mathcal{S}}(\\tilde{y}) } \\right)\n",
    "\\pi_{\\mathcal{S}}(\\theta),\n",
    "$$ \n",
    "which makes the inherent learning process more evident.  Our information after \n",
    "the observation, encoded in the posterior, is just our information before the \n",
    "observation, encoded in the prior, plus the information we learn from the \n",
    "observation, encoded in the ratio\n",
    "$$\n",
    "\\frac{ \\pi_{\\mathcal{S}}(\\tilde{y}, \\theta) }\n",
    "{ \\int \\mathrm{d} \\theta \\, \\pi_{\\mathcal{S}}(\\tilde{y}, \\theta) }.\n",
    "$$\n",
    "\n",
    "<br><br>\n",
    "![](figures/bayes/bayes.png)\n",
    "<br><br>\n",
    "\n",
    "Any inferential query we have can then be answered with an expectation value of\n",
    "an appropriate function with respect to the posterior distribution.  For \n",
    "example, where in the small world the most consistent model configurations \n",
    "concentrate can be quantified with the mean or the median of the posterior \n",
    "distribution.  Similarly, the breadth of this concentration can be quantified \n",
    "with the standard deviation or tail quantiles of the posterior distribution."
   ]
  },
  {
   "cell_type": "markdown",
   "metadata": {},
   "source": [
    "# Questioning Authority\n",
    "\n",
    "Given an observational model and a prior distribution, or equivalently the \n",
    "joint distribution, $\\pi_{\\mathcal{S}}(y, \\theta)$, Bayesian inference is \n",
    "straightforward to implement.  At least conceptually,  The utility of any \n",
    "inferences we derive, however, are completely dependent on this assumed model.  \n",
    "A poor model might readily yield inferences, but those inferences may be of \n",
    "little use in practice and may even be dangerous in critical applications.\n",
    "\n",
    "What, however, characterizes a useful probabilistic model?  Ideally the model \n",
    "would be consistent with our domain expertise, capturing not necessarily _all_ \n",
    "of our knowledge of the experimental design but just enough to admit answers to \n",
    "the scientific questions of interest.  It would also help if the model didn't \n",
    "obstruct our available computational tools so that we could accurately compute \n",
    "posterior expectation values and faithfully implement out inferences in \n",
    "practice.  Finally, we would hope that our model is rich enough to capture the \n",
    "structure of the true data generating process that is needed to answer our \n",
    "scientific questions.\n",
    "\n",
    "Consequently we can verify the utility of a model in a given application by\n",
    "trying to answer four questions.\n",
    "\n",
    "#### Question One: Domain Expertise Consistency\n",
    "\n",
    "_Is our model consistent with our domain expertise?_\n",
    "\n",
    "#### Question Two: Computational Faithfulness\n",
    "\n",
    "_Are our computational tools sufficient to accurately fit the model?_\n",
    "\n",
    "#### Question Three: Model Sensitivity\n",
    "\n",
    "_How do we expect our inferences to perform over the possible realizations of\n",
    "the measurement process?_\n",
    "\n",
    "#### Question Four: Model Adequacy\n",
    "\n",
    "_Is our model rich enough to capture the relevant structure of the true data\n",
    "generating process?_\n",
    "\n",
    "These questions can be challenging to answer even in simple applications, but\n",
    "with careful analysis of a given model we can assemble the necessary evidence to \n",
    "answer each of the four questions well enough to identify practical problems \n",
    "with the model.\n",
    "\n",
    "## Domain Expertise Consistency \n",
    "\n",
    "A common refrain is to \"let the data speak for itself\".  In a statistical\n",
    "analysis, however, the data speak only through the observational model, and the\n",
    "observational model isn't always so talkative.\n",
    "\n",
    "When the _likelihood function_, $\\pi_{\\mathcal{S}}(\\tilde{y} \\mid \\theta)$, \n",
    "concentrates in a small neighborhood of parameter space the structure of the \n",
    "prior isn't particularly important.  The information we learn from the \n",
    "observation dominates the form of the posterior distribution.\n",
    "\n",
    "<br><br>\n",
    "![](figures/joint_triptych/joint_triptych_one/joint_triptych_one.png)\n",
    "<br><br>\n",
    "\n",
    "The observational model, however, isn't always so well-behaved.  Sometimes the\n",
    "experimental design isn't sufficiently sensitive to the phenomena of interest,\n",
    "which manifests in a _weakly-identified_ likelihood function that spans huge\n",
    "regions of the model configuration space, or even a _non-identified_ likelihood\n",
    "function that extends all the way to infinity.  In these cases the form of the\n",
    "posterior is strongly influenced by the form of the prior, and a careless prior \n",
    "propagates to a careless posterior.\n",
    "\n",
    "<br><br>\n",
    "![](figures/joint_triptych/joint_triptych_two/joint_triptych_two.png)\n",
    "<br><br>\n",
    "\n",
    "In order to compensate for poor identification in the likelihood function we\n",
    "need the prior distribution to incorporate just enough domain expertise to\n",
    "suppress extreme, although not impossible, model configurations.\n",
    "\n",
    "<br><br>\n",
    "![](figures/joint_triptych/joint_triptych_three/joint_triptych_three.png)\n",
    "<br><br>\n",
    "\n",
    "That said, the success of a _weakly-informative prior_ like this depends on how \n",
    "the prior interacts with the likelihood function, and in sophisticated models \n",
    "these interactions can be difficult to analyze.  In practice it's often easiest \n",
    "to study how these interactions affect observations predicted by the model.\n",
    "\n",
    "The _prior predictive distribution_,\n",
    "$$\n",
    "\\pi_{\\mathcal{S}}(y) = \\int \\mathrm{d} \\theta \\, \\pi_{\\mathcal{S}}(y, \\theta),\n",
    "$$\n",
    "averages each data generating process within the observational model over the\n",
    "prior distribution, quantifying the range of observations deemed reasonable\n",
    "within the scope of our modeling assumptions.  A model predicting too many \n",
    "observations that are considered extreme within the scope of our domain\n",
    "expertise then indicates conflict between the modeling assumptions and that \n",
    "domain expertise.\n",
    "\n",
    "Analyzing the posterior predictive distribution, however, is not particularly\n",
    "straightforward when the observation space is high-dimensional.  In this case \n",
    "we have to consider _summary statistics_ that project the observational space to \n",
    "some lower dimensional space that's more amenable to visualization, and hence \n",
    "practical comparison to our often implicit domain expertise.  For example we \n",
    "might project the observations to a one-dimensional summary, \n",
    "$t : Y \\rightarrow \\mathbb{R}$, or even a structured summary like a histogram or \n",
    "empirical cumulative distribution function.  Constructing an interpretable yet\n",
    "informative summary statistic is very much a fine art.\n",
    "\n",
    "Once a summary statistic has been chosen we can then identify which values\n",
    "of the summary statistic correspond to observations that begin to become \n",
    "extreme.  For example, if we're observing how quickly a drug propagates through\n",
    "a patient's blood stream we can be fairly confident that the observed \n",
    "propagation speed will be less than the speed of sound in water as a drug dose\n",
    "traveling that fast would have unfortunately physical consequences.  Similarly,\n",
    "if we're observing carbon in the air then we don't want our model predicting\n",
    "carbon concentrations more characteristic of solid concrete than gaseous, \n",
    "breathable air.  If we're observing the migration of birds then we can be fairly \n",
    "sure that we won't observe any particularly healthy individuals cruising near \n",
    "the speed of light.  In practice these thresholds are readily identified with a \n",
    "cursory examination of the available domain expertise, especially if the summary \n",
    "statistics are well-chosen.\n",
    "\n",
    "With summary statistics and thresholds in hand _prior predictive checks_\n",
    "follow immediately.  We simply push the prior predictive distribution forward \n",
    "along each the summary statistic, the corresponding probability density function\n",
    "$\\pi_{t(Y)}(t)$ here show in dark red, and then consider how much \n",
    "probability leaks past the threshold and into the extreme values, here shown in \n",
    "light red.\n",
    "\n",
    "<br><br>\n",
    "![](figures/prior_predictive/prior_predictive_theory/prior_predictive_theory.png)\n",
    "<br><br>\n",
    "\n",
    "In practice we typically can't construct the probability density function for\n",
    "this pushforward distribution analytically, but we can approximate it using \n",
    "samples from the joint distribution.  Sampling\n",
    "$$\n",
    "\\tilde{\\theta} \\sim \\pi_{\\mathcal{S}}(\\theta)\n",
    "\\\\\n",
    "\\tilde{y} \\sim \\pi_{\\mathcal{S}}(y \\mid \\tilde{\\theta})\n",
    "$$\n",
    "yields samples from the joint distribution, $(\\tilde{y}, \\tilde{\\theta})$,\n",
    "and evaluating the summary statistic at the simulated observations,\n",
    "$$\n",
    "t(\\tilde{y})\n",
    "$$\n",
    "yields samples from the pushforward of the prior predictive distribution.  We\n",
    "can then histogram these samples to implement the posterior predictive check.\n",
    "\n",
    "<br><br>\n",
    "![](figures/prior_predictive/prior_predictive_practice/prior_predictive_practice.png)\n",
    "<br><br>\n",
    "\n",
    "The model shouldn't predict _no_ observations past the thresholds -- extreme\n",
    "observations are unreasonable but not impossible, after all.  Instead what we\n",
    "want to look for is excessive predictions surpassing the thresholds, and this is \n",
    "a more qualitative than quantitative judgement.  Indeed visualizations of the \n",
    "pushforward distributions are a powerful way to elicit qualitative information \n",
    "from domain experts unfamiliar with statistics.  The emphasis on the observation \n",
    "space is often more interpretable than the configurations of a specific \n",
    "observational model.  Moreover, the emphasis on extremes allows those experts to \n",
    "reject bad assumptions, which they are often far more eager to do opposed to\n",
    "accepting good assumptions.\n",
    "\n",
    "The idea of analyzing the prior predictive distribution goes back to Good's \n",
    "_device of imaginary results_ (Good 1950), which conveniently also gives its \n",
    "user +2 to Wisdom saving throws.\n",
    "\n",
    "## Computational Faithfulness\n",
    "\n",
    "A model is only as good as our ability to wield it.  In Bayesian inference, a\n",
    "model is only as good as our ability to compute expectation values with respect\n",
    "to the posterior distributions it generates, which is often denoted _fitting_\n",
    "the model.  Robust methods that offer a self-diagnostics capable of identifying \n",
    "inaccurate computation, such as Hamiltonian Monte Carlo, are extremely powerful \n",
    "in this regard as they provide some confidence that we can realize the \n",
    "inferences of our model.  \n",
    "\n",
    "If these diagnostics are available then the prior predictive distribution \n",
    "proves further useful.  Fitting observations simulated from the prior predictive \n",
    "distribution allows us check the performance of our chosen computational method \n",
    "over the range of reasonable posterior distribution behaviors.\n",
    "\n",
    "What can we do, however, if our method isn't self-diagnostic?  Fortunately\n",
    "Bayesian inference implies a subtle consistency property that allows us to \n",
    "check _any_ method capable of generating posterior samples.  Averaging the\n",
    "posterior distributions fit from observations drawn from the prior predictive \n",
    "distribution will _always_ recover the prior distribution,\n",
    "$$\n",
    "\\pi_{\\mathcal{S}}(\\theta') \n",
    "= \n",
    "\\int \\mathrm{d} y \\, \\mathrm{d} \\theta \\,\n",
    "\\pi_{\\mathcal{S}} (\\theta' \\mid y) \\, \\pi_{\\mathcal{S}} (y, \\theta).\n",
    "$$\n",
    "In particular this implies that the ensemble of posterior samples,\n",
    "$$\n",
    "\\tilde{\\theta} \\sim \\pi_{\\mathcal{S}}(\\theta)\n",
    "\\\\\n",
    "\\tilde{y} \\sim \\pi_{\\mathcal{S}}(y \\mid \\tilde{\\theta})\n",
    "\\\\\n",
    "\\tilde{\\theta}' \\sim \\pi(\\theta \\mid \\tilde{y}),\n",
    "$$\n",
    "will always be identical to samples from the prior distribution.  Any\n",
    "deviation between the two samples indicates that either our model has been \n",
    "incorrectly implemented or our computational method is generating biased\n",
    "samples.\n",
    "\n",
    "_Simulated-based calibration_ (Talts et al. 2018) compares the ensemble posterior\n",
    "sample and the prior sample using _ranks_.  For each simulated observation we\n",
    "generate $R$ samples from the corresponding posterior distribution,\n",
    "$$\n",
    "\\tilde{\\theta} \\sim \\pi_{\\mathcal{S}}(\\theta)\n",
    "\\\\\n",
    "\\tilde{y} \\sim \\pi_{\\mathcal{S}}(y \\mid \\tilde{\\theta})\n",
    "\\\\\\\n",
    "(\\tilde{\\theta}'_{1}, \\ldots, \\tilde{\\theta}'_{R}) \\sim \\pi(\\theta \\mid \\tilde{y}),\n",
    "$$\n",
    "and compute the rank of the prior sample within the posterior samples, i.e.\n",
    "the number of posterior samples larger than the prior sample,\n",
    "$$\n",
    "\\rho = \\sharp \\left\\{ \\tilde{\\theta} < \\tilde{\\theta}'_{r} \\right\\}.\n",
    "$$\n",
    "If the ensemble posterior sample and the prior sample are equivalent then these\n",
    "ranks should be uniformly distributed, which we can quickly analyze for each\n",
    "parameter in the model configuration space using a histogram.\n",
    "\n",
    "<br><br>\n",
    "![](figures/sbc/sbc.png)\n",
    "<br><br>\n",
    "\n",
    "Here the grey band demonstrates the expected variation of ranks distributed \n",
    "according to an exact uniform distribution.  Deviation outside of these bands,\n",
    "especially systematic deviation of many bins at once, indicates computational \n",
    "problems.  See Talts et al. (2018) for further discussion of common systematic \n",
    "deviations and their interpretations.\n",
    "\n",
    "Technically this method requires exact posterior samples, which are not \n",
    "available if we using, for example, Markov chain Monte Carlo.  To use simulation\n",
    "based calibration with Markov chain Monte Carlo we have to first thin our Markov \n",
    "chains to remove any effective autocorrelation.  See Talts et al. (2018) for more \n",
    "details.\n",
    "\n",
    "## Model Sensitivity\n",
    "\n",
    "The scope of reasonable observations and model configurations quantified in the \n",
    "Bayesian joint distribution also provides a way to analyze the range of \n",
    "inferential outcomes we should expect, and in particular _calibrate_ them with\n",
    "respect to the simulated truths (Betancourt 2018).\n",
    "\n",
    "For example, let's say that we have some _decision making process_ that takes in\n",
    "an observation as input and returns an action from the space of possible \n",
    "actions, $A$,\n",
    "$$\n",
    "\\begin{alignat*}{6}\n",
    "a :\\; &Y& &\\rightarrow& \\; &A&\n",
    "\\\\\n",
    "&y& &\\mapsto& &a(y)&.\n",
    "\\end{alignat*}\n",
    "$$\n",
    "This process might be a Bayesian decision theoretical process informed by\n",
    "posterior expectations, but it need not be.  It could just as easily be a\n",
    "process to reject or accept a null hypothesis using an orthodox significance \n",
    "test.\n",
    "\n",
    "Further let's say that the benefit of taking action $a \\in A$ when the true\n",
    "data generating process is given by the model configuration $\\theta$ is\n",
    "$$\n",
    "\\begin{alignat*}{6}\n",
    "U :\\; &A \\times \\mathcal{S}& &\\rightarrow& \\; &\\mathbb{R}&\n",
    "\\\\\n",
    "&(a, \\theta)& &\\mapsto& &U(a, \\theta)&.\n",
    "\\end{alignat*}\n",
    "$$\n",
    "For example this might be a false discovery rate or the benefits of an \n",
    "intervention minus any of its implementation costs.  In this context the utility \n",
    "of a decision making process for a given observation becomes  \n",
    "$$\n",
    "\\begin{alignat*}{6}\n",
    "U :\\; &Y& &\\rightarrow& \\; &\\mathbb{R}&\n",
    "\\\\\n",
    "&(y, \\theta)& &\\mapsto& &U(a(y), \\theta)&.\n",
    "\\end{alignat*}\n",
    "$$\n",
    "\n",
    "Before the measurement process resolves we don't know what the observation will\n",
    "be, nor do we know what the true data generating process will be.  If we \n",
    "assume that our model is rich enough to capture the true data generating \n",
    "process, however, then the joint distribution quantifies the possibilities.\n",
    "Consequently we can construct the distribution of possible utilities by \n",
    "pushing the Bayesian joint distribution forward along the utility function to\n",
    "give $\\pi_{U(A, \\mathcal{S})}$.\n",
    "\n",
    "<br><br>\n",
    "![](figures/sensitivity/sensitivity_theory/sensitivity_theory.png)\n",
    "<br><br>\n",
    "\n",
    "As with the prior predictive check, we can approximate the probability density \n",
    "function of this pushforward distribution in practice using samples from the \n",
    "joint distribution,\n",
    "$$\n",
    "\\tilde{\\theta} \\sim \\pi_{\\mathcal{S}}(\\theta)\n",
    "\\\\\n",
    "\\tilde{y} \\sim \\pi_{\\mathcal{S}}(y \\mid \\tilde{\\theta})\n",
    "\\\\\\\n",
    "U(a(\\tilde{y}), \\tilde{\\theta}).\n",
    "$$\n",
    "\n",
    "<br><br>\n",
    "![](figures/sensitivity/sensitivity_practice/sensitivity_practice.png)\n",
    "<br><br>\n",
    "\n",
    "This distribution of utilities is particularly useful for understanding how\n",
    "sensitive the measurement process is to the relevant features of the latent\n",
    "system that we're studying.  By carefully quantifying what we want to learn in\n",
    "the experiment into a utility function, we can formalize how capable our model\n",
    "is at answering those questions.\n",
    "\n",
    "We can also take a less application-specific approach and use the Bayesian joint \n",
    "distribution to characterize the general performance of our inferences and\n",
    "capture any pathologies that might be lurking within the assumptions of our\n",
    "model.\n",
    "\n",
    "Consider, for example, the _posterior $z$-score_ of a given parameter in the\n",
    "model configuration space,\n",
    "$$\n",
    "z = \\left|\n",
    "\\frac{ \\mu_{\\mathrm{post}} - \\tilde{\\theta} }\n",
    "{ \\sigma_{\\mathrm{post}} } \\right|.\n",
    "$$\n",
    "The posterior $z$-score quantifies how accurately the posterior recovers the \n",
    "true model configuration, with smaller values indicating a posterior that\n",
    "concentrates more tightly around the corresponding true parameter and larger\n",
    "values indicating a posterior that concentrates elsewhere.\n",
    "\n",
    "Similarly, the _posterior shrinkage_ of a given parameter,\n",
    "$$\n",
    "s = 1 -\n",
    "\\frac{ \\sigma^{2}_{\\mathrm{post}} }\n",
    "{ \\sigma^{2}_{\\mathrm{prior}} },\n",
    "$$\n",
    "quantifies how much the posterior learns about that parameter from a given \n",
    "observation.  Posterior shrinkage near zero indicates that the data provide \n",
    "little information beyond the domain expertise encoded in the prior \n",
    "distribution, while posterior shrinkage near one indicates observations that \n",
    "strongly inform this parameter.\n",
    "\n",
    "Conveniently, these two posterior expectations can capture an array of \n",
    "pathological behavior that typically compromises our inferences.  For example,\n",
    "a posterior with high posterior shrinkage and high posterior $z$-score \n",
    "indicates a model that overfits to the variation in the measurement and is\n",
    "unable to accurately recover the true model configuration.  A posterior with\n",
    "small posterior shrinkage and small posterior $z$-scores indicates a model that\n",
    "is poorly informed by the observations, where as a posterior with small \n",
    "posterior shrinkage and large posterior $z$-scores indicates a model with\n",
    "substantial conflict between the observational model and the prior distribution.\n",
    "\n",
    "If we fit the posterior for each observation in an ensemble of samples from\n",
    "the Bayesian joint distribution,\n",
    "$$\n",
    "\\tilde{\\theta} \\sim \\pi_{\\mathcal{S}}(\\theta)\n",
    "\\\\\n",
    "\\tilde{y} \\sim \\pi_{\\mathcal{S}}(y \\mid \\tilde{\\theta}),\n",
    "$$\n",
    "then we can visualize the distribution of posterior $z$-scores and posterior \n",
    "shrinkages for each parameter,\n",
    "$$\n",
    "z(\\pi_{S}(\\theta_{n} \\mid \\tilde{y}), \\tilde{\\theta}_{n})\n",
    "\\\\\n",
    "s(\\pi_{S}(\\theta_{n} \\mid \\tilde{y}), \\pi_{S}(\\theta_{n}))\n",
    "$$\n",
    "with a scatter plot of each posterior's behavior and quickly identify potential \n",
    "problems.\n",
    "\n",
    "<br><br>\n",
    "![](figures/eye_chart/eye_chart_regimes.png)\n",
    "<br><br>\n",
    "\n",
    "## Model Adequacy\n",
    "\n",
    "Finally we can consider the adequacy of our model in capturing the relevant\n",
    "structure of the true data generating process.\n",
    "\n",
    "If our model is sufficiently rich then the small world might contain the true\n",
    "data generating process and inferences within the small world might identify \n",
    "that true data generating process.  In practice, however, reality is much richer \n",
    "than any model we could feasibly implement and the small world is unlikely to\n",
    "contain the true data generating process.\n",
    "\n",
    "<br><br>\n",
    "![](figures/small_world/small_world_one/small_world_one.png)\n",
    "<br><br>\n",
    "\n",
    "In this more realistic scenario the posteriors can't concentrate around the true\n",
    "data generating process, and instead must be resort to concentrating around the\n",
    "model configurations within the small world that best approximate the true data\n",
    "generating process.\n",
    "\n",
    "<br><br>\n",
    "![](figures/small_world/small_world_two/small_world_two.png)\n",
    "<br><br>\n",
    "\n",
    "The pertinent question is then not whether or not our small world contains the\n",
    "true data generating process but rather whether or not our small world is \n",
    "_close enough_ to the true data generating process.  To paraphrase George Box,\n",
    "our model is probably wrong, but is it useful?\n",
    "\n",
    "Consequently, in order to quantify the adequacy of our model we need to \n",
    "determine how close it is to the true data generating process, and in order to \n",
    "do that we need to summarize our inferences into a predictive distribution that \n",
    "we can directly compare to the true data generating process. For that we \n",
    "appeal to the _posterior predictive distribution_,\n",
    "$$\n",
    "\\pi_{\\mathcal{S}}(y \\mid \\tilde{y}) \n",
    "= \n",
    "\\int \\mathrm{d} \\theta \\, \n",
    "\\pi_{\\mathcal{S}}(\\theta \\mid \\tilde{y}) \\, \\pi_{\\mathcal{S}}(y \\mid \\theta),\n",
    "$$\n",
    "which averages all of the data generating process within the observational model \n",
    "over the posterior distribution, quantifying the range of predictions consistent \n",
    "with both our domain expertise and the observation, $\\tilde{y}$.  \n",
    "\n",
    "If we want to compare the whole of the posterior predictive distribution and the \n",
    "true data generating process, then some reasonable assumptions quickly lead us\n",
    "to the _Kullback-Leibler divergence_, \n",
    "$\\mathrm{KL}(\\pi^{\\dagger}(y) \\mid \\mid \\pi_{\\mathcal{S}}(y \\mid \\tilde{y}))$ \n",
    "(Betancourt 2015), which vanishes when the two distributions are identical and \n",
    "monotonically increases as they deviate.  \n",
    "\n",
    "That said, in practice we can't compute this divergence without knowing the true \n",
    "data generating process!  Instead we have to _approximate_ the divergence using \n",
    "just our observed data, which ultimately yields Bayesian cross validation and \n",
    "the many information criteria that further approximate that.  Importantly in \n",
    "this series of approximations we lose the ability to estimate absolute \n",
    "divergences and instead can estimate only _differences_ between divergences from \n",
    "the posterior predictive distributions of different models.  This makes these \n",
    "approximations useful for model comparison, but not determining the adequacy of \n",
    "a single model in isolation.\n",
    "\n",
    "Moreover, there's also a deeper issue with comprehensive measures like the \n",
    "Kullback-Leibler divergence between the posterior predictive distribution and\n",
    "the true data generating process.  We know our model will not capture every \n",
    "intimate detail of reality, and we really only want our model to capture those\n",
    "details relevant to our scientific goals.  If we're modeling bird migration then \n",
    "we don't have any need to model the irrelevant effects of quantum mechanics or \n",
    "general relativity!  Comprehensive measures, however, are often strongly \n",
    "affected by these irrelevant details, making it difficult to isolate the \n",
    "structures about which we do care.\n",
    "\n",
    "Fortunately we've already thought about isolating the features of the \n",
    "observation space relevant to our scientific questions -- they're exactly what\n",
    "motivated the summary statistics we would use for a prior predictive check!\n",
    "Consequently we can reuse those summary statistics to construct _posterior\n",
    "predictive checks_ that visually compare the pushforwards of the posterior \n",
    "predictive distribution, $\\pi_{t(Y) \\mid Y}(t \\mid \\tilde{y})$, to the observed\n",
    "summary statistic, $t(\\tilde{y})$.\n",
    "\n",
    "If the observed summary statistic, here shown in light red, falls within the \n",
    "bulk of the pushforward distribution, here shown in dark red, then our model is\n",
    "doing an adequate job of modeling the behaviors captured by the summary \n",
    "statistic.\n",
    "\n",
    "<br><br>\n",
    "![](figures/posterior_predictive/posterior_predictive_good/posterior_predictive_good.png)\n",
    "<br><br>\n",
    "\n",
    "If the observed summary statistic falls in the tails of the pushforward \n",
    "distribution, however, then the situation is not so clear.\n",
    "<br><br>\n",
    "![](figures/posterior_predictive/posterior_predictive_bad/posterior_predictive_bad.png)\n",
    "<br><br>\n",
    "\n",
    "Unfortunately we can't discriminate between our observation being a rare but not\n",
    "impossible extreme and our model being insufficiently sophisticated to capture \n",
    "the relevant structure of the true data generating process that manifests in the \n",
    "summary statistic.  Instead we have to rely on our domain expertise to identify\n",
    "possible _model expansions_ that could resolve this discrepancy without \n",
    "compromising our inferences if the discrepancy is just a mirage.\n",
    "\n",
    "As with prior predictive checks, in practice we typically can't construct the \n",
    "probability density function for these pushforward distributions analytically \n",
    "in order to implement a posterior predictive check.  We can, however, readily\n",
    "approximate it with samples from the posterior predictive distribution,\n",
    "$$\n",
    "\\tilde{y}' \\sim \\pi_{\\mathcal{S}}(\\theta \\mid \\tilde{y}),\n",
    "$$\n",
    "on which we can then evaluate our summary statistics, \n",
    "$$\n",
    "t(\\tilde{y}')\n",
    "$$\n",
    "to give samples from the pushforwards of the posterior predictive distribution.\n",
    "\n",
    "<br><br>\n",
    "![](figures/posterior_predictive/posterior_predictive_practice/posterior_predictive_practice.png)\n",
    "<br><br>\n",
    "\n",
    "Posterior predictive checks date back to Rubin (1984) and the beginnings of \n",
    "the simulation revolution in statistics."
   ]
  },
  {
   "cell_type": "markdown",
   "metadata": {},
   "source": [
    "# Building a Mystery\n",
    "\n",
    "If there are no indications that a given model is failing any of these four\n",
    "questions then we can proceed to apply it in practice confident that it will\n",
    "provide reasonably robust inferences for the relevant scientific goals.  If \n",
    "there are signs of trouble for any of these four questions, however, then we\n",
    "have to consider improving the model, or occasionally even reducing the \n",
    "ambition of our scientific questions in the first place.\n",
    "\n",
    "The goal of a principled Bayesian workflow is to guide a practitioner through \n",
    "a regimented model critique that addresses these four questions.  In particular\n",
    "any criticisms need to be _interpretable_ in order to inform the practitioner \n",
    "how to improve the analysis and address those criticisms.  This feedback then\n",
    "further guides iterative model development that converges to a model capable of\n",
    "tackling the relevant scientific goals.\n",
    "\n",
    "A robust model development is initialized with a conceptual analysis of the\n",
    "model that a practitioner would fit without the practical limitations of finite\n",
    "computational resources, time, and mathematical tools.  This _aspirational \n",
    "model_, $\\mathcal{S}_{A}$, would incorporate all of the systematic effects that \n",
    "might influence the measurement process, such as heterogeneity across \n",
    "individuals or variation across space and time, and richer structure than \n",
    "typically presumed in the phenomenological models often used in practice.  It\n",
    "would also incorporate all of the domain expertise available within a field.\n",
    "Reasoning about the aspirational model forces practitioners to reason about the \n",
    "subtleties in the latent system being studied and the measurement process being \n",
    "used to probe that system.\n",
    "\n",
    "Within this abstract aspirational model we then explicitly build our initial \n",
    "model, $\\mathcal{S}_{1}$, to be just sophisticated enough to incorporate the \n",
    "phenomena of scientific interest but no more.  This initial model typically \n",
    "includes few if any systematic effects and only as much domain expertise as \n",
    "needed to motivate an initial prior distribution.\n",
    "\n",
    "<br><br>\n",
    "![](figures/asp_simple/asp_simple.png)\n",
    "<br><br>\n",
    "\n",
    "The aspirational model provides critical context for this initial model.  In\n",
    "particular, the _difference_ between the two models, \n",
    "$\\mathcal{S}_{A} \\setminus \\mathcal{S}_{1}$, encapsulates all of the potentially\n",
    "relevant structure ignored by the initial model.\n",
    "\n",
    "<br><br>\n",
    "![](figures/asp_simple_diff/asp_simple_diff.png)\n",
    "<br><br>\n",
    "\n",
    "This abstract difference then motivates principled summary statistics that \n",
    "isolate these ignored structures, providing the foundations of constructive\n",
    "prior and posterior predictive checks for the initial model.\n",
    "\n",
    "If the initial model proves inadequate then we have to improve it, and the\n",
    "context of the aspirational model guides that improvement so that we're not\n",
    "adding arbitrary complexity irrelevant to our scientific goals.  In particular,\n",
    "posterior predictive checks based on interpretable summary statistics \n",
    "immediately suggest the structure isolated by those summary statistics, such as\n",
    "heterogeneity or time dependence in the observational model or domain expertise\n",
    "neglected by the prior distribution.  Adding this structure yields an expanded\n",
    "model, and if that expanded model still proves inadequate then we iterate, \n",
    "sequentially expanding our model until it becomes capable of achieving our \n",
    "scientific goals.  \n",
    "\n",
    "<br><br>\n",
    "![](figures/model_expansion/model_expansion.png)\n",
    "<br><br>\n",
    "\n",
    "By reasoning about the aspirational model first we don't randomly walk through\n",
    "the space of all possible models but rather take coherent steps from our simple\n",
    "initial model towards the aspirational model.\n",
    "\n",
    "The emphasis on model _expansion_ is critical.  By subsuming the previous model\n",
    "a new model can always fall back to the previous model configurations if the\n",
    "added structure isn't actually helpful in explaining the true data generating\n",
    "process.  Moreover, quantifying our inferences with an entire posterior\n",
    "distribution, as opposed to say a point estimate of a single model \n",
    "configuration, ensures that the initial model configurations continue to\n",
    "influence our inferences so long as they remain consistent with the \n",
    "observations.  This makes our model development workflow particularly robust to\n",
    "the faux pas of rushing towards unneeded complexity and overfitting, especially \n",
    "when equipping each expanded model with priors distribution that incorporate the \n",
    "qualitative features of _penalized complexity priors_ that favor the previous \n",
    "model (Simpson et al. 2017).\n",
    "\n",
    "Finally it's important to recognize that a better model is not always sufficient\n",
    "to obtain the answers we want.  Sometimes our initial scientific goals are too \n",
    "ambitious, or our experiment is too insensitive to the phenomena of interest. \n",
    "In these cases a useful workflow will also identify the limitations of the \n",
    "measurement process and suggest more realistic goals for the available data."
   ]
  },
  {
   "cell_type": "markdown",
   "metadata": {},
   "source": [
    "# Work it, Make it, Do it, Makes Us Harder, Better, Faster, Stronger\n",
    "\n",
    "Putting this all together we can now design a principled Bayesian workflow that\n",
    "guides the development of robust models in practical applications.  The\n",
    "workflow introduced here begins by examining the experimental design and the\n",
    "resulting measurement process.  Only once the measurement process is understood\n",
    "do we build our initial model and study its performance in the context of our\n",
    "statistical and domain expertise.  Finally we can analyze the fit of the model\n",
    "on the observed data, verifying the computational accuracy of the fit and the \n",
    "adequacy of the model to capture the relevant features of the true data \n",
    "generating process.  At any point we might identify failures which motivate \n",
    "improved models for which the workflow restarts.\n",
    "\n",
    "Here _domain expertise_ refers to the experience of those responsible for\n",
    "collecting, curating, or otherwise manipulating the data, as well as \n",
    "stakeholders who will make decisions using the final inferences or any \n",
    "intermediaries who will help stakeholders to make those decisions.  _Statistical \n",
    "expertise_ refers to proficiency in probabilistic modeling and computation.\n",
    "\n",
    "## Experimental Design\n",
    "\n",
    "Before modeling anything we need to first consider the design of our experiment, \n",
    "especially in the context of our scientific goals.  \n",
    "\n",
    "### Step One: Conceptual Analysis\n",
    "\n",
    "We begin by developing a conceptual understanding of the measurement process \n",
    "from the latent phenomena of interest through its interactions with the \n",
    "environment and how those interactions manifest as observations.  This\n",
    "interaction then needs to be contrasted with our scientific goals in order to \n",
    "qualify how sensitive the observations are to the desired scientific phenomena.\n",
    "Moreover, we want to pay particular attention to the many possible systematic \n",
    "effects that influence this process but are not known with complete certainty.  \n",
    "\n",
    "This conceptual analysis yields informal narratives describing how observations \n",
    "are generated, forming the basis of the aspirational model to which all of our\n",
    "explicit models will yearn to be when they grow up.\n",
    "\n",
    "**Requirements:** Domain Expertise\n",
    "\n",
    "### Step Two: Define Observations\n",
    "\n",
    "Given our conceptual understanding of the measurement process we can take our \n",
    "first steps towards building a formal mathematical model by defining the space \n",
    "in which observations take values.  This may include, for example, the number of \n",
    "repetitions, subjects, groups, or components in each observation as well as the \n",
    "range of values each component can take.\n",
    "\n",
    "**Requirements:** Domain Expertise and Statistical Expertise\n",
    "\n",
    "### Step Three: Identify Relevant Summary Statistics\n",
    "\n",
    "With an observation space formally defined we can begin to construct summary \n",
    "statistics that isolate relevant properties of the experimental design, \n",
    "especially those properties that influence decision making and those that we \n",
    "expect to be difficult to model and hence unlikely to be adequately described\n",
    "by our early models.  These summary statistics provide then provide the basis \n",
    "for answering [Question One](#Question-One:-Domain-Expertise-Consistency) and \n",
    "[Question Four](#Question-Four:-Model-Adequacy).\n",
    "\n",
    "In preparation for prior predictive checks we also want to complement these \n",
    "summary statistics with conceptual expectations for what behaviors are \n",
    "reasonable, or, as is often easier to elicit in practice, what behaviors are \n",
    "_unreasonable_.\n",
    "\n",
    "**Requirements:** Domain Expertise\n",
    "\n",
    "## Modeling\n",
    "\n",
    "Once the experimental design has been fully considered we can begin the\n",
    "modeling process in earnest.  Before we utilize any observed data we want to \n",
    "ensure that our model holds steadfast under the scrutiny of \n",
    "[Question One](#Question-One:-Domain-Expertise-Consistency), [Question Two](#Question-Two: Computational-Faithfulness), and\n",
    "[Question Three](#Question-Three:-Model-Sensitivity).\n",
    "\n",
    "### Step Four: Build a Model \n",
    "\n",
    "A Bayesian model requires an observation model, \n",
    "$\\pi_{\\mathcal{S}}(y \\mid \\theta)$, comprised of possible data generating \n",
    "processes and a prior model, $\\pi_{\\mathcal{S}}(\\theta)$, that encodes selected \n",
    "domain expertise.  As our models grow in sophistication, however, the \n",
    "distinction between these two components is not always clear and so it is \n",
    "prescient to focus more on building the Bayesian joint distribution.\n",
    "\n",
    "When first beginning the model development process our initial model should be \n",
    "as simple as possible, perhaps ignoring many if not all of the systematic \n",
    "effects of the environment in which the system of interest is contained.  The\n",
    "initial model should be just sophisticated enough to be able to answer the \n",
    "scientific questions of interest in an idealized experiment.\n",
    "\n",
    "#### Build an Observational Model\n",
    "\n",
    "The observational model is built from many probability distributions over the \n",
    "observation space, each defining a mathematical narrative of how observations\n",
    "are generated.  This collection of data generating processes should translate \n",
    "the conceptual narrative produced in [Step One](#Step-One:-Conceptual-Analysis) into a more \n",
    "rigorous probabilistic model.\n",
    "\n",
    "Often the observational model is a crude approximation to the complexity of the \n",
    "true measurement process, but even crude approximations can be sufficient to \n",
    "answer sophisticated questions in practice.  Still, we want to keep the\n",
    "approximate nature of our observational model, in particular the natural \n",
    "extensions of the model to include for example heterogeneities, time\n",
    "dependences, and other systematic effects, in mind.\n",
    "\n",
    "**Requirements:** Domain Expertise and Statistical Expertise\n",
    "\n",
    "#### Complete The Model With Prior Distributions\n",
    "\n",
    "In a Bayesian model the observational model is complemented with a prior \n",
    "distribution over the space of  all unknown model configuration parameters,\n",
    "$\\pi_{\\mathcal{S}}(\\theta)$.  The prior distribution does not need to \n",
    "incorporate all of our available domain expertise, just enough to ensure that \n",
    "the joint model,\n",
    "$$\n",
    "\\pi_{\\mathcal{S}}(y, \\theta) \n",
    "= \n",
    "\\pi_{\\mathcal{S}}(y \\mid \\theta) \\, \\pi_{\\mathcal{S}}(\\theta),\n",
    "$$\n",
    "is well-behaved (Gelman, Simpson, and Betancourt 2017).  In practice it is often sufficient for the prior distribution to incorporate information about the _scales_, _units_, or _orders of magnitude_ which identify unreasonable but not impossible model configurations.\n",
    "\n",
    "Keep in mind that the separation of the Bayesian model into an observation\n",
    "model and a prior model is not uniquely defined.  Consider, for example, \n",
    "unobserved latent structure, $\\pi_{\\mathcal{S}}(\\theta \\mid \\phi)$, such as that \n",
    "arising in hierarchical models and hidden Markov models. We could equally well \n",
    "define the observation model as \n",
    "$\\pi_{\\mathcal{S}}(y \\mid \\theta) \\, \\pi_{\\mathcal{S}}(\\theta \\mid \\phi)$ with \n",
    "the corresponding prior distribution $\\pi_{\\mathcal{S}}(\\phi)$, or the \n",
    "observation model as $\\pi_{\\mathcal{S}}(y \\mid \\theta)$ with the prior \n",
    "distribution $\\pi_{\\mathcal{S}}(\\theta \\mid \\phi) \\, \\pi_{\\mathcal{S}}(\\phi)$.  \n",
    "Which is more appropriate in a given application depends on what parameters one \n",
    "expects to vary in the generation of new observations.\n",
    "\n",
    "Consequently the focus should be not on specifying prior distributions in\n",
    "isolation but rather _completing_ the observation model developed\n",
    "[above](#Build-an-Observational-Model) with necessary domain expertise about the model\n",
    "configurations.  This might take the form of independent, one-dimensional prior \n",
    "distributions for each parameter or more sophisticated prior distributions that\n",
    "incorporate multiple parameters.  These joint priors often introduce their own \n",
    "parameters that require another round of prior distributions.  When building \n",
    "sophisticated models it's probability distributions all the way down.\n",
    "\n",
    "**Requirements:** Domain Expertise and Statistical Expertise\n",
    "\n",
    "### Step Five: Identify New Summary Statistics\n",
    "\n",
    "Once a we have developed an explicit model we can reevaluate the context of\n",
    "the aspirational model and modify existing summary statistics or introduce new\n",
    "ones.  \n",
    "\n",
    "If the current model is an expansion from a previous model then we can also \n",
    "take this opportunity to exploit any information from failures of the previous\n",
    "model or information about added features to motivate new summary statistics. \n",
    "For example, if we add a new systematic effect then we might also introduce \n",
    "summary statistics that are sensitive to the heterogeneity of that systematic \n",
    "effect across configurations of the experiment, such as which individual \n",
    "collecting the data or at which site the data were collected.\n",
    "\n",
    "### Step Six: Analyze the Joint Ensemble\n",
    "\n",
    "Before considering any observed data we first want to understand the \n",
    "consequences of our modeling assumptions by answering \n",
    "[Question One](#Question-One:-Domain-Expertise-Consistency), [Question Two](#Question-Two: Computational-Faithfulness), \n",
    "and [Question Three](#Question-Three:-Model-Sensitivity).\n",
    "\n",
    "Fortunately this analysis is readily performed with samples of reasonable\n",
    "model configurations and observations from the joint distribution, \n",
    "$\\pi_{\\mathcal{S}}(y, \\theta)$.  Typically we first simulate model configurations \n",
    "from the prior distribution and then observations from the corresponding \n",
    "data generating process,\n",
    "$$\n",
    "\\tilde{\\theta} \\sim \\pi_{\\mathcal{S}}(\\theta)\n",
    "\\\\\n",
    "\\tilde{y} \\sim \\pi_{\\mathcal{S}}(y \\mid \\tilde{\\theta} ),\n",
    "$$\n",
    "although when the separation between observational and prior models isn't so\n",
    "clear we can consider any means of sampling from the joint distribution.\n",
    "\n",
    "**Requirements:** Statistical Expertise\n",
    "\n",
    "#### Analyze the Prior Predictive Distribution\n",
    "\n",
    "Answers to [Question One](#Question-One:-Domain-Expertise-Consistency) are readily informed with prior\n",
    "predictive checks of the summary statistics constructed in \n",
    "[Step Three](#Step-Three:-Identify-Relevant-Summary-Statistics) or [Step Five](#Step-Five:-Identify-New-Summary-Statistics).\n",
    "\n",
    "If the prior predictive checks indicate conflict between the model and our \n",
    "domain expertise then we have to return to [Step Four](#Step-Four:-Build-a-Model) and \n",
    "modify our model, typically by incorporating additional domain expertise to \n",
    "better constrain [the prior distribution](#Complete-The-Model-With-Prior-Distributions).\n",
    "\n",
    "**Requirements:** Domain Expertise\n",
    "\n",
    "#### Evaluate Simulated Fits\n",
    "\n",
    "For each simulated observation we can also construct a posterior distribution\n",
    "with a given computational method, $\\pi_{\\mathcal{S}}(\\theta \\mid \\tilde{y})$, \n",
    "or at least attempt as much.  In particular, the distribution of reconstructed \n",
    "posteriors allows to evaluate the accuracy of the computational method, \n",
    "answering [Question Two](#Question-Two: Computational-Faithfulness).\n",
    "\n",
    "If the designated computational method features diagnostics, such as $\\hat{R}$ \n",
    "for Markov chain Monte Carlo in general and divergences for Hamiltonian Monte \n",
    "Carlo in particular, then we can look for failed diagnostics across the \n",
    "distribution of posterior fits.  Failures indicate that we need to consider \n",
    "improving the tuning or implementation the computational method, or selecting \n",
    "another method altogether, and then repeating the fits.  \n",
    "\n",
    "Correlating failed diagnostics with the corresponding simulated model \n",
    "configurations can also help to identify regions of the model configuration \n",
    "space that may be ill-posed for practical computation.  Moreover, the emergence \n",
    "of these pathological fits implies extreme behavior in the posterior which often \n",
    "hints at tension between the model and our domain expertise that may require \n",
    "reevaluating [Step Four](#Step-Four:-Build-a-Model).\n",
    "\n",
    "**Requirements:** Statistical Expertise\n",
    "\n",
    "#### Implement Simulated-Based Calibration\n",
    "\n",
    "Even if our chosen computational method doesn't have its own diagnostics, we \n",
    "can evaluate its performance by performing simulation-based calibration over the\n",
    "joint sample.  As above, if the performance of the method is unsatisfactory then \n",
    "we need to consider retuning the method, or selecting another method altogether \n",
    "and then repeating the fits.\n",
    "\n",
    "**Requirements:** Statistical Expertise\n",
    "\n",
    "#### Analyze General Model Sensitivity\n",
    "\n",
    "Once we trust the faithfulness of our reconstructed posterior distributions we\n",
    "can consider the breadth of inferences they provide to answer \n",
    "[Question Three](#Model-Sensitivity).  In general we can always consider the \n",
    "distribution of posterior $z$-scores against posterior shrinkages to identify \n",
    "common pathologies in our inferences.\n",
    "\n",
    "If there are indications of undesired behavior, such as overfitting or\n",
    "non-identifiability, then we might need to return to [Step One](#Step-One:-Conceptual-Analysis) \n",
    "to reconsider an improved experimental design or tempered scientific goals.  \n",
    "Sometimes we may need only return to [Step Four](#Step-Four:-Build-a-Model) to\n",
    "incorporate additional domain expertise that stabilizes our inferences.\n",
    "\n",
    "**Requirements:** Statistical Expertise\n",
    "\n",
    "#### Analyzing Bespoke Model Sensitivity \n",
    "\n",
    "If a decision-making process has been established then we can also calibrate the \n",
    "performance of this process by constructing the distribution of utilities over\n",
    "the joint distribution.  For example, if a discovery claim is to be made then we \n",
    "at the very least want to compute the corresponding false discovery rates and \n",
    "true discovery rates within the context of our model.\n",
    "\n",
    "Once again, if the calibration proves unsatisfactory then we will need to \n",
    "return to either [Step One](#Step-One:-Conceptual-Analysis) or [Step Four](#Step-Four:-Build-a-Model).\n",
    "\n",
    "**Requirements:** Domain Expertise and Statistical Expertise\n",
    "\n",
    "## Inference\n",
    "\n",
    "If [Question One](#Question-One:-Domain-Expertise-Consistency), [Question Two](#Question-Two: Computational-Faithfulness), \n",
    "and [Question Three](#Question-Three:-Model-Sensitivity) have been satisfactorily answered\n",
    "within the scope of the model then we can proceed to fitting the observed data \n",
    "and confront [Question Four](#Question-Four:-Model-Adequacy).  Once we consider the observed\n",
    "data we introduce a vulnerability to overfitting and so we must be extremely \n",
    "vigilant to study the behavior of an expanded models in subsequent iterations of \n",
    "the workflow.\n",
    "\n",
    "### Step Seven: Fit the Observations and Evaluate\n",
    "\n",
    "Confident in our model we can construct a posterior distribution from the \n",
    "observed data.  We have to be careful, however, as the previous validation of \n",
    "our chosen computational method may not apply if the observed data is not within \n",
    "the scope of the prior predictive distribution, which can happen when the model\n",
    "is too simple to capture the relevant structure of the true data generating\n",
    "process.  Consequently we need to be careful to check any diagnostics of our \n",
    "method on the fit of the observed data.\n",
    "\n",
    "If any diagnostics indicate poor performance then not only is our computational\n",
    "method suspect but also our model may not be rich enough to capture the relevant \n",
    "details of the observed data.  At the very least we should reconsider the tuning \n",
    "of our computational tool, but we may also want to consider a deeper \n",
    "investigation into the poor performance to better identify the source of the\n",
    "pathology.  This analysis can suggest limitations of our model which can \n",
    "motivate improvements in [Step Four](#Step-Four:-Build-a-Model).\n",
    "\n",
    "**Requirements:** Statistical Expertise\n",
    "\n",
    "### Step Eight: Analyze the Posterior Predictive Distribution\n",
    "\n",
    "When we construct a posterior distribution for the observed data we can also\n",
    "perform a posterior predictive check for each of our summary statistics to\n",
    "answer [Question Four](#Question-Four:-Model-Adequacy).  If there are indications of \n",
    "problems then we need to go back to [Step Four](#Step-Four:-Build-a-Model) and expand the \n",
    "model as motivated by the interpretation of the summary statistic.  We may even \n",
    "need to go back to [Step One](#Step-One:-Conceptual-Analysis) and improve our domain expertise \n",
    "of the experimental design before considering an expanded model.  Once we have a \n",
    "new model we then restart the workflow and iterate until we can't identify any \n",
    "substantial deviations between the observed data and our fit.\n",
    "\n",
    "In order to avoid biasing our model development by overfitting to the observed \n",
    "data, we have to be careful to not abuse the particular realization of the \n",
    "observed data.  Specifically we don't want to respond to failing posterior \n",
    "predictive checks by incorporating quantitative features of the observed data \n",
    "into the model but rather by expanding the model within the scope of our, \n",
    "possibly improved, domain expertise.  Failures of posterior predictive checks \n",
    "should motivate expansions of the model but not particular model configurations \n",
    "within that expanded model!\n",
    "\n",
    "For example, we don't want to respond to a failing posterior predictive check by \n",
    "adding a new component to our model with particular values to match the observed \n",
    "data but rather a new component with uncertain values that are instead fit \n",
    "jointly with the rest of the model parameters.  The prior distribution for this \n",
    "new component should not be informed by the observed data but rather our domain \n",
    "expertise.\n",
    "\n",
    "**Requirements:** Domain Expertise and Statistical Expertise"
   ]
  },
  {
   "cell_type": "markdown",
   "metadata": {},
   "source": [
    "# Close Enough For An Effective Demonstration\n",
    "\n",
    "In order to demonstrate this proposed workflow let's a consider a relatively\n",
    "simple example of an analysis that might arise in any science lab.  We have\n",
    "been tasked with analyzing data collected by a precocious young student who was\n",
    "instructed to train a aim of detectors onto a radioactive specimen that emits a \n",
    "constant flow of particles.  They dutifully collected data and collated it into \n",
    "a file which has arrived in our inbox.\n",
    "\n",
    "Before even reading the email we dutifully set up our local `Python` environment."
   ]
  },
  {
   "cell_type": "code",
   "execution_count": 2,
   "metadata": {
    "collapsed": true
   },
   "outputs": [],
   "source": [
    "import matplotlib\n",
    "import matplotlib.pyplot as plot\n",
    "import numpy\n",
    "import scipy.stats as stats\n",
    "import multiprocessing\n",
    "import math\n",
    "\n",
    "import pystan\n",
    "import stan_utility\n",
    "\n",
    "light=\"#DCBCBC\"\n",
    "light_highlight=\"#C79999\"\n",
    "mid=\"#B97C7C\"\n",
    "mid_highlight=\"#A25050\"\n",
    "dark=\"#8F2727\"\n",
    "dark_highlight=\"#7C0000\"\n",
    "green=\"#00FF00\""
   ]
  },
  {
   "cell_type": "markdown",
   "metadata": {},
   "source": [
    "## First Iteration: A Journey of a Thousand Models Begins with a Single Step\n",
    "\n",
    "In our first iteration through the workflow we model the experiment that we've\n",
    "been told occurred.  Nothing ominous here.\n",
    "\n",
    "### Step One: Conceptual Analysis\n",
    "\n",
    "Our conceptual model follows the instructions given to the student.  100\n",
    "detectors were directed towards the source and set to record the number of\n",
    "incident particles over a given interval of time.  The intensity of the source\n",
    "is presumed to be constant over that interval and each detector should be\n",
    "identical in operation.\n",
    "\n",
    "### Step Two: Define Observations\n",
    "\n",
    "Mathematically our observation takes the form of integer counts, $y$, for each\n",
    "of the $N = 100$ detectors.  In the Stan modeling language this is specified as"
   ]
  },
  {
   "cell_type": "code",
   "execution_count": 3,
   "metadata": {
    "collapsed": false
   },
   "outputs": [
    {
     "name": "stdout",
     "output_type": "stream",
     "text": [
      "data {\n",
      "  int N;    // Number of observations\n",
      "  int y[N]; // Count at each observation\n",
      "}\n"
     ]
    }
   ],
   "source": [
    "with open('fit_data.stan', 'r') as file:\n",
    "    lines = file.readlines()[0:4]\n",
    "    for line in lines:\n",
    "        print(line),"
   ]
  },
  {
   "cell_type": "markdown",
   "metadata": {},
   "source": [
    "### Step Three: Identify Relevant Summary Statistics\n",
    "\n",
    "There are $N = 100$ components in each observation, one for each detector.  We\n",
    "could analyze each component independently but, because we have assumed that the\n",
    "detectors are all identical, we can analyze their comprehensive responses with\n",
    "a histogram of their counts.  In other words we consider the histogram of\n",
    "detector counts _as the summary statistic_!\n",
    "\n",
    "It's always difficult to create examples that incorporate domain expertise as \n",
    "the presentation of domain expertise that resonates with a given practitioner\n",
    "will vary from field to field.  For this example we'll fake it with my \n",
    "explicitly decreeing the available expertise.  In particular, we assume that our \n",
    "conceptual domain expertise would inform us that 25 counts in a detector would \n",
    "be an extreme but not impossible observation for this kind of detector.\n",
    "\n",
    "### Step Four: Build a Model\n",
    "\n",
    "The constant intensity of the source and detector response suggest a Poisson\n",
    "observation model for each of the detectors with a single source strength,\n",
    "$\\lambda$.\n",
    "\n",
    "Our domain expertise that 25 counts is extreme suggests that we want our prior\n",
    "for $\\lambda$ to keep most of its probability mass below $\\lambda = 15$, which\n",
    "corresponds to fluctuations in the observations around\n",
    "$15 + 3 \\sqrt{15} \\approx 25$.  We achieve this with a half-normal prior with\n",
    "standard deviation = 6.44787 such that only 1% of the prior probability mass is\n",
    "above $\\lambda = 15$."
   ]
  },
  {
   "cell_type": "code",
   "execution_count": 4,
   "metadata": {
    "collapsed": false
   },
   "outputs": [
    {
     "data": {
      "image/png": "[encoded data removed]",
      "text/plain": [
       "<matplotlib.figure.Figure at 0x10682db50>"
      ]
     },
     "metadata": {},
     "output_type": "display_data"
    }
   ],
   "source": [
    "ls = numpy.arange(0, 20, 0.001)\n",
    "pdfs = [ stats.norm.pdf(l, 0, 6.44787) for l in ls]\n",
    "plot.plot(ls, pdfs, linewidth=2, color=dark_highlight)\n",
    "\n",
    "ls = numpy.arange(0, 15, 0.001)\n",
    "pdfs = [ stats.norm.pdf(l, 0, 6.44787) for l in ls]\n",
    "plot.fill_between(ls, 0, pdfs, color=dark_highlight)\n",
    "\n",
    "plot.gca().set_xlabel(\"lambda\")\n",
    "plot.gca().set_ylabel(\"Prior Density\")\n",
    "plot.gca().axes.get_yaxis().set_visible(False)\n",
    "plot.show()"
   ]
  },
  {
   "cell_type": "markdown",
   "metadata": {},
   "source": [
    "This probabilistic model is implemented in the Stan programs"
   ]
  },
  {
   "cell_type": "code",
   "execution_count": 7,
   "metadata": {
    "collapsed": false
   },
   "outputs": [
    {
     "name": "stdout",
     "output_type": "stream",
     "text": [
      "data {\n",
      "  int N;\n",
      "}\n",
      "\n",
      "generated quantities {\n",
      "  // Simulate model configuration from prior model\n",
      "  real<lower=0> lambda = fabs(normal_rng(0, 6.44787));\n",
      "  \n",
      "  // Simulate data from observational model\n",
      "  int y[N];\n",
      "  for (n in 1:N) y[n] = poisson_rng(lambda);\n",
      "}\n",
      "\n"
     ]
    }
   ],
   "source": [
    "with open('sample_joint_ensemble.stan', 'r') as file:\n",
    "    print(file.read())"
   ]
  },
  {
   "cell_type": "code",
   "execution_count": 8,
   "metadata": {
    "collapsed": false
   },
   "outputs": [
    {
     "name": "stdout",
     "output_type": "stream",
     "text": [
      "data {\n",
      "  int N;    // Number of observations\n",
      "  int y[N]; // Count at each observation\n",
      "}\n",
      "\n",
      "parameters {\n",
      "  real<lower=0> lambda; // Poisson intensity\n",
      "}\n",
      "\n",
      "model {\n",
      "  lambda ~ normal(0, 6.44787); // Prior model\n",
      "  y ~ poisson(lambda);         // Observational model\n",
      "}\n",
      "\n"
     ]
    }
   ],
   "source": [
    "with open('fit_data.stan', 'r') as file:\n",
    "    print(file.read())"
   ]
  },
  {
   "cell_type": "markdown",
   "metadata": {},
   "source": [
    "### Step Five: Identify New Summary Statistics\n",
    "\n",
    "The independent, identically distributed Poisson model is well suited by the\n",
    "histogram summary statistic that we've already introduced.  \n",
    "\n",
    "Were this model more complex then we might consider summary statistics that\n",
    "exploit the specific structure of the model.  For example, were there variation \n",
    "in the Poisson intensity across groups we might consider separate histograms for \n",
    "the data arising from each of those groups.  \n",
    "\n",
    "### Step Six: Analyze the Joint Ensemble\n",
    "\n",
    "Here we will consider $R = 1000$ draws from the joint ensemble, each of\n",
    "which simulates a ground truth and observed values for the $N = 100$ detectors.\n",
    "Note the use of the `Fixed_param` algorithm in `Stan` which only evaluates the\n",
    "`generated quantities` block at each iteration."
   ]
  },
  {
   "cell_type": "code",
   "execution_count": 11,
   "metadata": {
    "collapsed": false
   },
   "outputs": [
    {
     "name": "stderr",
     "output_type": "stream",
     "text": [
      "INFO:pystan:COMPILING THE C++ CODE FOR MODEL anon_model_680343583c4e2710cb893416f659b2f2 NOW.\n"
     ]
    }
   ],
   "source": [
    "R = 1000 # 1000 draws from the Bayesian joint distribution\n",
    "N = 100\n",
    "\n",
    "simu_data = dict(N = N)\n",
    "\n",
    "model = stan_utility.compile_model('sample_joint_ensemble.stan')\n",
    "fit = model.sampling(data=simu_data,\n",
    "                     iter=R, warmup=0, chains=1, refresh=R,\n",
    "                     seed=4838282, algorithm=\"Fixed_param\")\n",
    "\n",
    "simu_lambdas = fit.extract()['lambda']\n",
    "simu_ys = fit.extract()['y'].astype(numpy.int64)"
   ]
  },
  {
   "cell_type": "markdown",
   "metadata": {},
   "source": [
    "More draws from the joint ensemble will yield a more precise understanding\n",
    "of the model and I recommend that you run as many replications as your\n",
    "computational resources allow.  In circumstances with limited computational\n",
    "resources even a few replications can provide a powerful view into the\n",
    "consequences of your model.\n",
    "\n",
    "#### Analyze the Prior Predictive Distribution\n",
    "\n",
    "Each simulated observation in the joint ensemble gives a summary histogram.\n",
    "For example, one sample gives the histogram"
   ]
  },
  {
   "cell_type": "code",
   "execution_count": 30,
   "metadata": {
    "collapsed": false
   },
   "outputs": [
    {
     "data": {
      "image/png": "[encoded data removed]",
      "text/plain": [
       "<matplotlib.figure.Figure at 0x113bceed0>"
      ]
     },
     "metadata": {},
     "output_type": "display_data"
    }
   ],
   "source": [
    "max_y = 40\n",
    "B = max_y + 1\n",
    "\n",
    "bins = [b - 0.5 for b in range(B + 1)]\n",
    "\n",
    "idxs = [ idx for idx in range(B) for r in range(2) ]\n",
    "xs = [ idx + delta for idx in range(B) for delta in [-0.5, 0.5]]\n",
    "\n",
    "counts = [numpy.histogram(simu_ys[r], bins=bins)[0] for r in range(R)]\n",
    "\n",
    "plot.plot(xs, [counts[0][idx] for idx in idxs], linewidth=2.5, color=dark, alpha=0.5)\n",
    "plot.gca().set_xlim(-0.5, B + 0.5)\n",
    "plot.gca().set_xlabel(\"y\")\n",
    "plot.gca().set_ylim(0, 50)\n",
    "plot.show()"
   ]
  },
  {
   "cell_type": "markdown",
   "metadata": {},
   "source": [
    "Three samples give the three histograms "
   ]
  },
  {
   "cell_type": "code",
   "execution_count": 31,
   "metadata": {
    "collapsed": false
   },
   "outputs": [
    {
     "data": {
      "image/png": "[encoded data removed]",
      "text/plain": [
       "<matplotlib.figure.Figure at 0x110dc8110>"
      ]
     },
     "metadata": {},
     "output_type": "display_data"
    }
   ],
   "source": [
    "plot.plot(xs, [counts[0][idx] for idx in idxs], linewidth=2.5, color=dark, alpha=0.5)\n",
    "plot.plot(xs, [counts[1][idx] for idx in idxs], linewidth=2.5, color=dark, alpha=0.5)\n",
    "plot.plot(xs, [counts[2][idx] for idx in idxs], linewidth=2.5, color=dark, alpha=0.5)\n",
    "plot.gca().set_xlim(-0.5, B + 0.5)\n",
    "plot.gca().set_xlabel(\"y\")\n",
    "plot.gca().set_ylim(0, 50)\n",
    "plot.show()"
   ]
  },
  {
   "cell_type": "markdown",
   "metadata": {},
   "source": [
    "and ten samples give the ten histograms"
   ]
  },
  {
   "cell_type": "code",
   "execution_count": 32,
   "metadata": {
    "collapsed": false
   },
   "outputs": [
    {
     "data": {
      "image/png": "[encoded data removed]",
      "text/plain": [
       "<matplotlib.figure.Figure at 0x1122eeb50>"
      ]
     },
     "metadata": {},
     "output_type": "display_data"
    }
   ],
   "source": [
    "for n in range(10):\n",
    "  plot.plot(xs, [counts[n][idx] for idx in idxs], linewidth=2.5, color=dark, alpha=0.5)\n",
    "plot.gca().set_xlim(-0.5, B + 0.5)\n",
    "plot.gca().set_xlabel(\"y\")\n",
    "plot.gca().set_ylim(0, 50)\n",
    "plot.show()"
   ]
  },
  {
   "cell_type": "markdown",
   "metadata": {},
   "source": [
    "We can visualize the entire prior predictive distribution of these histogram \n",
    "with quantiles of the bin counts.  Here the darkest red corresponds to the bin \n",
    "medians with the increasingly lighter bands corresponding to $(0.4, 0.6)$, \n",
    "$(0.3, 0.7)$, $(0.2, 0.8)$, and $(0.1, 0.9)$ intervals, respectively.  This \n",
    "visualization can obscure correlations amongst the bins, but it serves as a \n",
    "useful summary of the full prior predictive distribution."
   ]
  },
  {
   "cell_type": "code",
   "execution_count": 33,
   "metadata": {
    "collapsed": false
   },
   "outputs": [
    {
     "data": {
      "image/png": "[encoded data removed]",
      "text/plain": [
       "<matplotlib.figure.Figure at 0x112050710>"
      ]
     },
     "metadata": {},
     "output_type": "display_data"
    }
   ],
   "source": [
    "probs = [10, 20, 30, 40, 50, 60, 70, 80, 90]\n",
    "creds = [numpy.percentile([count[b] for count in counts], probs)\n",
    "         for b in range(B)]\n",
    "pad_creds = [ creds[idx] for idx in idxs ]\n",
    "\n",
    "plot.fill_between(xs, [c[0] for c in pad_creds], [c[8] for c in pad_creds],\n",
    "                  facecolor=light, color=light)\n",
    "plot.fill_between(xs, [c[0] for c in pad_creds], [c[7] for c in pad_creds],\n",
    "                  facecolor=light_highlight, color=light_highlight)\n",
    "plot.fill_between(xs, [c[2] for c in pad_creds], [c[6] for c in pad_creds],\n",
    "                  facecolor=mid, color=mid)\n",
    "plot.fill_between(xs, [c[3] for c in pad_creds], [c[5] for c in pad_creds],\n",
    "                  facecolor=mid_highlight, color=mid_highlight)\n",
    "plot.plot(xs, [c[4] for c in pad_creds], color=dark)\n",
    "\n",
    "plot.gca().set_xlim([min(bins), max(bins)])\n",
    "plot.gca().set_xlabel(\"y\")\n",
    "plot.gca().set_ylim([0, max([c[8] for c in creds])])\n",
    "plot.gca().set_ylabel(\"Prior Predictive Distribution\")\n",
    "\n",
    "plot.axvline(x=25, linewidth=2.5, color=\"white\")\n",
    "plot.axvline(x=25, linewidth=2, color=\"black\")\n",
    "\n",
    "plot.show()"
   ]
  },
  {
   "cell_type": "markdown",
   "metadata": {},
   "source": [
    "We see a very small prior predictive probability for observations above\n",
    "the extreme scale informed by our domain expertise, which is corroborated by\n",
    "the estimated tail probability,"
   ]
  },
  {
   "cell_type": "code",
   "execution_count": 34,
   "metadata": {
    "collapsed": false
   },
   "outputs": [
    {
     "data": {
      "text/plain": [
       "0.00127"
      ]
     },
     "execution_count": 34,
     "metadata": {},
     "output_type": "execute_result"
    }
   ],
   "source": [
    "float(len([ y for y in simu_ys.flatten() if y > 25 ])) / len(simu_ys.flatten())"
   ]
  },
  {
   "cell_type": "markdown",
   "metadata": {},
   "source": [
    "#### Evaluate Simulated Fits\n",
    "\n",
    "Now we are ready to fit posteriors and draw inferences from each of our\n",
    "replications.  Because each replication can be analyzed independently this\n",
    "analysis is embarrassingly parallel which allows us to exploit the increasingly\n",
    "common parallel computing resources.\n",
    "\n",
    "Because this particular model can be fit so quickly I am parallelizing over\n",
    "replications and not parallelizing the four Markov chains run to fit each\n",
    "replication to which `Stan` defaults.  The optimal setup in any given analysis \n",
    "will depend on the details of the computational circumstances.\n",
    "\n",
    "For each fit we capture the fit diagnostics, the simulation-based calibration\n",
    "rank, and the posterior $z$-score and posterior shrinkage."
   ]
  },
  {
   "cell_type": "code",
   "execution_count": 35,
   "metadata": {
    "collapsed": false
   },
   "outputs": [
    {
     "name": "stderr",
     "output_type": "stream",
     "text": [
      "INFO:pystan:COMPILING THE C++ CODE FOR MODEL anon_model_4f368a9af6326f5e6a3b82bbc4a58cc8 NOW.\n"
     ]
    }
   ],
   "source": [
    "simus = zip(simu_lambdas, simu_ys)\n",
    "fit_model = stan_utility.compile_model('fit_data.stan')\n",
    "\n",
    "def analyze_simu(simu):\n",
    "    simu_l = simu[0]\n",
    "    simu_y = simu[1]\n",
    "    \n",
    "    # Fit the simulated observation\n",
    "    input_data = dict(N = N, y = simu_y)\n",
    "    \n",
    "    fit = fit_model.sampling(data=input_data, seed=4938483, n_jobs=1)\n",
    "    \n",
    "    # Compute diagnostics\n",
    "    warning_code = stan_utility.check_all_diagnostics(fit, quiet=True)\n",
    "    \n",
    "    # Compute rank of prior draw with respect to thinned posterior draws\n",
    "    thinned_l = fit.extract()['lambda'][numpy.arange(0, 4000 - 7, 8)]\n",
    "    sbc_rank = len(filter(lambda x: x > simu_l, thinned_l))\n",
    "    \n",
    "    # Compute posterior sensitivities\n",
    "    summary = fit.summary(probs=[0.5])\n",
    "    post_mean_l = [x[0] for x in summary['summary']][0]\n",
    "    post_sd_l = [x[2] for x in summary['summary']][0]\n",
    "    \n",
    "    prior_sd_l = 6.44787\n",
    "    \n",
    "    z_score = (post_mean_l - simu_l) / post_sd_l\n",
    "    shrinkage = 1 - (post_sd_l / prior_sd_l)**2\n",
    "    \n",
    "    return [warning_code, sbc_rank, z_score, shrinkage]"
   ]
  },
  {
   "cell_type": "code",
   "execution_count": 36,
   "metadata": {
    "collapsed": true
   },
   "outputs": [],
   "source": [
    "pool = multiprocessing.Pool(4)\n",
    "ensemble_output = pool.map(analyze_simu, simus)"
   ]
  },
  {
   "cell_type": "markdown",
   "metadata": {},
   "source": [
    "The first thing we do is check the diagnostics to make sure that each fit is\n",
    "accurately representing the corresponding posterior distribution."
   ]
  },
  {
   "cell_type": "code",
   "execution_count": 37,
   "metadata": {
    "collapsed": false
   },
   "outputs": [
    {
     "name": "stdout",
     "output_type": "stream",
     "text": [
      "No posterior fits in the generative ensemble encountered problems!\n"
     ]
    }
   ],
   "source": [
    "warning_codes = [x[0] for x in ensemble_output]\n",
    "if sum(warning_codes) is not 0:\n",
    "    print (\"Some posterior fits in the generative \" +\n",
    "           \"ensemble encountered problems!\")\n",
    "    for r in range(R):\n",
    "        if warning_codes[r] is not 0:\n",
    "            print('Replication {} of {}'.format(r, R))\n",
    "            print('Simulated lambda = {}'.format(simu_lambdas[r]))\n",
    "            stan_utility.parse_warning_code(warning_codes[r])\n",
    "            print(\"\")\n",
    "else:\n",
    "    print (\"No posterior fits in the generative \" +\n",
    "           \"ensemble encountered problems!\")"
   ]
  },
  {
   "cell_type": "markdown",
   "metadata": {},
   "source": [
    "Fortunately there are no signs of any problems.\n",
    "\n",
    "#### Implement Simulated-Based Calibration\n",
    "\n",
    "We can provide an even stronger guarantee that our fits are accurate by applying\n",
    "simulation-based calibration."
   ]
  },
  {
   "cell_type": "code",
   "execution_count": 38,
   "metadata": {
    "collapsed": false
   },
   "outputs": [
    {
     "data": {
      "image/png": "[encoded data removed]",
      "text/plain": [
       "<matplotlib.figure.Figure at 0x1126c0750>"
      ]
     },
     "metadata": {},
     "output_type": "display_data"
    }
   ],
   "source": [
    "sbc_low = stats.binom.ppf(0.005, R, 25.0 / 500)\n",
    "sbc_mid = stats.binom.ppf(0.5, R, 25.0 / 500)\n",
    "sbc_high = stats.binom.ppf(0.995, R, 25.0 / 500)\n",
    "\n",
    "bar_x = [-10, 510, 500, 510, -10, 0, -10]\n",
    "bar_y = [sbc_high, sbc_high, sbc_mid, sbc_low, sbc_low, sbc_mid, sbc_high]\n",
    "\n",
    "plot.fill(bar_x, bar_y, color=\"#DDDDDD\", ec=\"#DDDDDD\")\n",
    "plot.plot([0, 500], [sbc_mid, sbc_mid], color=\"#999999\", linewidth=2)\n",
    "\n",
    "sbc_ranks = [x[1] for x in ensemble_output]\n",
    "\n",
    "plot.hist(sbc_ranks, bins=[25 * x - 0.5 for x in range(21)],\n",
    "          color=dark, ec=dark_highlight, zorder=3)\n",
    "\n",
    "plot.gca().set_xlabel(\"Prior Rank\")\n",
    "plot.gca().set_xlim(-10, 510)\n",
    "plot.gca().axes.get_yaxis().set_visible(False)\n",
    "\n",
    "plot.show()"
   ]
  },
  {
   "cell_type": "markdown",
   "metadata": {},
   "source": [
    "The variations in the rank histogram are within the expectations of uniformity\n",
    "shown in the grey bar, which suggests that the fits are indeed faithfully\n",
    "representing the true posterior distributions.\n",
    "\n",
    "#### Analyze General Model Sensitivity\n",
    "\n",
    "Confident in our fits we can then analyze the posterior distributions\n",
    "themselves."
   ]
  },
  {
   "cell_type": "code",
   "execution_count": 39,
   "metadata": {
    "collapsed": false
   },
   "outputs": [
    {
     "data": {
      "image/png": "[encoded data removed]",
      "text/plain": [
       "<matplotlib.figure.Figure at 0x116959690>"
      ]
     },
     "metadata": {},
     "output_type": "display_data"
    }
   ],
   "source": [
    "z_scores = [x[2] for x in ensemble_output]\n",
    "shrinkages = [x[3] for x in ensemble_output]\n",
    "\n",
    "plot.scatter(shrinkages, z_scores, color=dark, alpha=0.2)\n",
    "plot.gca().set_xlabel(\"Posterior Shrinkage\")\n",
    "plot.gca().set_xlim(0, 1)\n",
    "plot.gca().set_ylabel(\"Posterior z-Score\")\n",
    "plot.gca().set_ylim(-5, 5)\n",
    "\n",
    "plot.show()"
   ]
  },
  {
   "cell_type": "markdown",
   "metadata": {},
   "source": [
    "The fitted posteriors concentrate towards large shrinkages which indicates that \n",
    "all of our posteriors in the joint ensemble are well-identified.  Moreover, the\n",
    "concentration towards small posterior $z$-scores indicates that they also\n",
    "accurately capture the simulated model configurations.\n",
    "\n",
    "#### Analyze Bespoke Model Sensitivity\n",
    "\n",
    "Without an explicit decision or precise scientific question in mind we don't\n",
    "have any bespoke model sensitivities to perform.  This would be different if we,\n",
    "for example, were interested in identifying differences between the detectors \n",
    "or subtle phenomena in the source being observed.\n",
    "\n",
    "### Step Seven: Fit the Observations and Evaluate\n",
    "\n",
    "Confident that our model captures our domain expertise and is well-behaved\n",
    "within the scope of its own assumptions we can fire up our email client and\n",
    "grab the student's data."
   ]
  },
  {
   "cell_type": "code",
   "execution_count": 3,
   "metadata": {
    "collapsed": false
   },
   "outputs": [
    {
     "name": "stdout",
     "output_type": "stream",
     "text": [
      "Using cached StanModel\n"
     ]
    }
   ],
   "source": [
    "data = pystan.read_rdump('workflow.data.R')\n",
    "\n",
    "model = stan_utility.compile_model('fit_data_ppc.stan')\n",
    "fit = model.sampling(data=data, seed=4838282)"
   ]
  },
  {
   "cell_type": "markdown",
   "metadata": {},
   "source": [
    "The fit shows no diagnostic problems,"
   ]
  },
  {
   "cell_type": "code",
   "execution_count": 4,
   "metadata": {
    "collapsed": false
   },
   "outputs": [
    {
     "name": "stdout",
     "output_type": "stream",
     "text": [
      "n_eff / iter looks reasonable for all parameters\n",
      "Rhat looks reasonable for all parameters\n",
      "0.0 of 4000 iterations ended with a divergence (0.0%)\n",
      "0 of 4000 iterations saturated the maximum tree depth of 10 (0%)\n",
      "E-BFMI indicated no pathological behavior\n"
     ]
    }
   ],
   "source": [
    "stan_utility.check_all_diagnostics(fit)"
   ]
  },
  {
   "cell_type": "markdown",
   "metadata": {},
   "source": [
    "and the recovered posterior for the source intensity looks reasonable."
   ]
  },
  {
   "cell_type": "code",
   "execution_count": 94,
   "metadata": {
    "collapsed": false
   },
   "outputs": [
    {
     "data": {
      "image/png": "[encoded data removed]",
      "text/plain": [
       "<matplotlib.figure.Figure at 0x111df3f90>"
      ]
     },
     "metadata": {},
     "output_type": "display_data"
    }
   ],
   "source": [
    "params = fit.extract()\n",
    "\n",
    "plot.hist(params['lambda'], bins = 25, color = dark, ec = dark_highlight)\n",
    "plot.gca().set_xlabel(\"lambda\")\n",
    "plot.gca().axes.get_yaxis().set_visible(False)\n",
    "plot.show()"
   ]
  },
  {
   "cell_type": "markdown",
   "metadata": {},
   "source": [
    "### Step Eight: Analyze the Posterior Predictive Distribution\n",
    "\n",
    "But how well does our model capture the structure of the data?  To perform\n",
    "a posterior predictive check we compare the observed histogram of counts to\n",
    "the posterior predictive distribution of counts, here visualized with marginal\n",
    "bin quantiles as we did for the prior predictive distribution."
   ]
  },
  {
   "cell_type": "code",
   "execution_count": 95,
   "metadata": {
    "collapsed": false
   },
   "outputs": [
    {
     "data": {
      "image/png": "[encoded data removed]",
      "text/plain": [
       "<matplotlib.figure.Figure at 0x117182490>"
      ]
     },
     "metadata": {},
     "output_type": "display_data"
    }
   ],
   "source": [
    "max_y = 40\n",
    "B = max_y + 1\n",
    "\n",
    "bins = [b - 0.5 for b in range(B + 1)]\n",
    "\n",
    "idxs = [ idx for idx in range(B) for r in range(2) ]\n",
    "xs = [ idx + delta for idx in range(B) for delta in [-0.5, 0.5]]\n",
    "      \n",
    "obs_counts = numpy.histogram(data['y'], bins=bins)[0]\n",
    "pad_obs_counts = [ obs_counts[idx] for idx in idxs ]\n",
    "\n",
    "counts = [numpy.histogram(params['y_ppc'][n], bins=bins)[0] for n in range(4000)]\n",
    "probs = [10, 20, 30, 40, 50, 60, 70, 80, 90]\n",
    "creds = [numpy.percentile([count[b] for count in counts], probs)\n",
    "         for b in range(B)]\n",
    "pad_creds = [ creds[idx] for idx in idxs ]\n",
    "\n",
    "plot.fill_between(xs, [c[0] for c in pad_creds], [c[8] for c in pad_creds],\n",
    "                  facecolor=light, color=light)\n",
    "plot.fill_between(xs, [c[1] for c in pad_creds], [c[7] for c in pad_creds],\n",
    "                  facecolor=light_highlight, color=light_highlight)\n",
    "plot.fill_between(xs, [c[2] for c in pad_creds], [c[6] for c in pad_creds],\n",
    "                  facecolor=mid, color=mid)\n",
    "plot.fill_between(xs, [c[3] for c in pad_creds], [c[5] for c in pad_creds],\n",
    "                  facecolor=mid_highlight, color=mid_highlight)\n",
    "plot.plot(xs, [c[4] for c in pad_creds], color=dark)\n",
    "\n",
    "plot.plot(xs, pad_obs_counts, linewidth=2.5, color=\"white\")\n",
    "plot.plot(xs, pad_obs_counts, linewidth=2.0, color=\"black\")\n",
    "\n",
    "plot.gca().set_xlim([min(bins), max(bins)])\n",
    "plot.gca().set_xlabel(\"y\")\n",
    "plot.gca().set_ylim([0, max(max(obs_counts), max([c[8] for c in creds]))])\n",
    "plot.gca().set_ylabel(\"Posterior Predictive Distribution\")\n",
    "\n",
    "plot.show()"
   ]
  },
  {
   "cell_type": "markdown",
   "metadata": {},
   "source": [
    "Unfortunately the posterior predictive check indicates a serious excess of\n",
    "zeros above what we'd expect from a Poissonian observational model alone.  Our \n",
    "model is not flexible enough to capture both the peak at zero and the bulk away \n",
    "from zero, instead trying to compromise between these two behaviors and \n",
    "failing to capturing either particularly well.  This experiment isn't quite as \n",
    "simple as it first appeared, but we can use the structure of this failure to\n",
    "motivate an improved model and try again."
   ]
  },
  {
   "cell_type": "markdown",
   "metadata": {},
   "source": [
    "## Second Iteration: If At First You Don't Succeed, Try Try Again\n",
    "\n",
    "The conflict between the observation and the model prediction we saw in the\n",
    "posterior predictive check immediately suggests an expanded model where we \n",
    "introduce a second source of zeroes, and a second iteration of our workflow.\n",
    "\n",
    "### Step One: Conceptual Analysis\n",
    "\n",
    "Because we hadn't previously considered a source of excess zeroes we should\n",
    "return all the way back to the conceptual analysis in order to understand the\n",
    "possible mechanisms for these zeroes in our measurement process.  The excess\n",
    "suggests that not all of the detectors are in perfect working order, returning\n",
    "zero counts regardless of the flux of incident radiation.  Upon further \n",
    "consideration this isn't unreasonable for detectors that a student excavated\n",
    "from a dusty closet.\n",
    "\n",
    "### Step Two: Define Observations\n",
    "\n",
    "The observation space does not change in our expanded model, just the \n",
    "probabilistic structure of our possible data generating processes.\n",
    "\n",
    "### Step Three: Identify Relevant Summary Statistics\n",
    "\n",
    "The same histogram summary will be useful in summarizing the observations.\n",
    "\n",
    "### Step Four: Build a Model\n",
    "\n",
    "We can readily capture this possibility of failing detectors with a \n",
    "_zero-inflated Poisson_ model that mixes a Poisson distribution with a point \n",
    "distribution that concentrates entirely at zero.  We use the same prior for the\n",
    "source intensity, $\\lambda$, and assign a uniform prior over the mixture weight,\n",
    "$\\theta$.\n",
    "\n",
    "This expanded model is implemented in the Stan programs"
   ]
  },
  {
   "cell_type": "code",
   "execution_count": 44,
   "metadata": {
    "collapsed": false
   },
   "outputs": [
    {
     "name": "stdout",
     "output_type": "stream",
     "text": [
      "data {\n",
      "  int N;\n",
      "}\n",
      "\n",
      "generated quantities {\n",
      "  // Simulate model configuration from prior model\n",
      "  real<lower=0, upper=1> theta = beta_rng(1, 1);\n",
      "  real<lower=0> lambda = fabs(normal_rng(0, 6.44787));\n",
      "  \n",
      "  // Simulate data from observational model\n",
      "  int y[N] = rep_array(0, N);\n",
      "  for (n in 1:N)\n",
      "    if (!bernoulli_rng(theta))\n",
      "      y[n] = poisson_rng(lambda);\n",
      "}\n",
      "\n"
     ]
    }
   ],
   "source": [
    "with open('sample_joint_ensemble2.stan', 'r') as file:\n",
    "    print(file.read())"
   ]
  },
  {
   "cell_type": "code",
   "execution_count": 45,
   "metadata": {
    "collapsed": false
   },
   "outputs": [
    {
     "name": "stdout",
     "output_type": "stream",
     "text": [
      "data {\n",
      "  int N;    // Number of observations\n",
      "  int y[N]; // Count at each observation\n",
      "}\n",
      "\n",
      "parameters {\n",
      "  real<lower=0, upper=1> theta; // Excess zero probability\n",
      "  real<lower=0> lambda;         // Poisson intensity\n",
      "}\n",
      "\n",
      "model {\n",
      "  // Prior model\n",
      "  theta ~ beta(1, 1);\n",
      "  lambda ~ normal(0, 6.44787);\n",
      "\n",
      "  // Observational model that mixes a Poisson with excess zeros\n",
      "  for (n in 1:N) {\n",
      "    real lpdf = poisson_lpmf(y[n] | lambda);\n",
      "    if (y[n] == 0)\n",
      "      target += log_mix(theta, 0, lpdf);\n",
      "    else\n",
      "      target += log(1 - theta) + lpdf;\n",
      "  }\n",
      "}\n",
      "\n"
     ]
    }
   ],
   "source": [
    "with open('fit_data2.stan', 'r') as file:\n",
    "    print(file.read())"
   ]
  },
  {
   "cell_type": "markdown",
   "metadata": {},
   "source": [
    "### Step Five: Identify New Summary Statistics\n",
    "\n",
    "Because zero-inflation manifests in the histogram summary statistic we don't\n",
    "need a new summary statistic to isolate this behavior.  If we wanted to be\n",
    "exhaustive, however, we could consider new summary statistics such as the \n",
    "number of observed zeros or the ratio of observed zeroes to total observations.\n",
    "\n",
    "### Step Six: Analyze the Joint Ensemble\n",
    "\n",
    "The structure of our joint ensemble doesn't change."
   ]
  },
  {
   "cell_type": "code",
   "execution_count": 46,
   "metadata": {
    "collapsed": false
   },
   "outputs": [
    {
     "name": "stderr",
     "output_type": "stream",
     "text": [
      "INFO:pystan:COMPILING THE C++ CODE FOR MODEL anon_model_0ca34c6f1ea19b03663dc29deea159b1 NOW.\n"
     ]
    }
   ],
   "source": [
    "model = stan_utility.compile_model('sample_joint_ensemble2.stan')\n",
    "fit = model.sampling(data=simu_data,\n",
    "                     iter=R, warmup=0, chains=1, refresh=R,\n",
    "                     seed=4838282, algorithm=\"Fixed_param\")\n",
    "\n",
    "simu_lambdas = fit.extract()['lambda']\n",
    "simu_thetas = fit.extract()['theta']\n",
    "simu_ys = fit.extract()['y'].astype(numpy.int64)"
   ]
  },
  {
   "cell_type": "markdown",
   "metadata": {},
   "source": [
    "####  Analyze the Prior Predictive Distribution\n",
    "\n",
    "The prior predictive distribution of histograms now manifests the zero-inflation \n",
    "we have added to our model."
   ]
  },
  {
   "cell_type": "code",
   "execution_count": 47,
   "metadata": {
    "collapsed": false
   },
   "outputs": [
    {
     "data": {
      "image/png": "[encoded data removed]",
      "text/plain": [
       "<matplotlib.figure.Figure at 0x1156bb290>"
      ]
     },
     "metadata": {},
     "output_type": "display_data"
    }
   ],
   "source": [
    "max_y = 50\n",
    "B = max_y + 1\n",
    "\n",
    "bins = [b - 0.5 for b in range(B + 1)]\n",
    "\n",
    "counts = [numpy.histogram(simu_ys[r], bins=bins)[0] for r in range(R)]\n",
    "probs = [10, 20, 30, 40, 50, 60, 70, 80, 90]\n",
    "creds = [numpy.percentile([count[b] for count in counts], probs)\n",
    "         for b in range(B)]\n",
    "\n",
    "idxs = [ idx for idx in range(B) for r in range(2) ]\n",
    "xs = [ idx + delta for idx in range(B) for delta in [-0.5, 0.5]]\n",
    "      \n",
    "pad_creds = [ creds[idx] for idx in idxs ]\n",
    "\n",
    "plot.fill_between(xs, [c[0] for c in pad_creds], [c[8] for c in pad_creds],\n",
    "                  facecolor=light, color=light)\n",
    "plot.fill_between(xs, [c[0] for c in pad_creds], [c[7] for c in pad_creds],\n",
    "                  facecolor=light_highlight, color=light_highlight)\n",
    "plot.fill_between(xs, [c[2] for c in pad_creds], [c[6] for c in pad_creds],\n",
    "                  facecolor=mid, color=mid)\n",
    "plot.fill_between(xs, [c[3] for c in pad_creds], [c[5] for c in pad_creds],\n",
    "                  facecolor=mid_highlight, color=mid_highlight)\n",
    "plot.plot(xs, [c[4] for c in pad_creds], color=dark)\n",
    "\n",
    "plot.gca().set_xlim([min(bins), max(bins)])\n",
    "plot.gca().set_xlabel(\"y\")\n",
    "plot.gca().set_ylim([0, max([c[8] for c in creds])])\n",
    "plot.gca().set_ylabel(\"Prior Predictive Distribution\")\n",
    "\n",
    "plot.axvline(x=25, linewidth=2.5, color=\"white\")\n",
    "plot.axvline(x=25, linewidth=2, color=\"black\")\n",
    "\n",
    "plot.show()"
   ]
  },
  {
   "cell_type": "markdown",
   "metadata": {},
   "source": [
    "This addition, however, doesn't change the tail of observations and hence we\n",
    "still have an appropriately small prior predictive probability for extreme\n",
    "counts."
   ]
  },
  {
   "cell_type": "code",
   "execution_count": 48,
   "metadata": {
    "collapsed": false
   },
   "outputs": [
    {
     "data": {
      "text/plain": [
       "0.00038"
      ]
     },
     "execution_count": 48,
     "metadata": {},
     "output_type": "execute_result"
    }
   ],
   "source": [
    "float(len([ y for y in simu_ys.flatten() if y > 25 ])) / len(simu_ys.flatten())"
   ]
  },
  {
   "cell_type": "markdown",
   "metadata": {},
   "source": [
    "There are fewer extreme counts than before because the zero inflation \n",
    "suppresses the relative number of non-zero observations.\n",
    "\n",
    "#### Evaluate Simulated Fits\n",
    "\n",
    "We proceed to fitting each replication, being sure to capture simulation \n",
    "based calibration ranks and posterior summaries for the new parameter."
   ]
  },
  {
   "cell_type": "code",
   "execution_count": 51,
   "metadata": {
    "collapsed": false
   },
   "outputs": [
    {
     "name": "stdout",
     "output_type": "stream",
     "text": [
      "Using cached StanModel\n"
     ]
    }
   ],
   "source": [
    "simus = zip(simu_lambdas, simu_thetas, simu_ys)\n",
    "fit_model = stan_utility.compile_model('fit_data2.stan')\n",
    "\n",
    "def analyze_simu(simu):\n",
    "    simu_l = simu[0]\n",
    "    simu_t = simu[1]\n",
    "    simu_y = simu[2]\n",
    "    \n",
    "    # Fit the simulated observation\n",
    "    input_data = dict(N = N, y = simu_y)\n",
    "    \n",
    "    fit = fit_model.sampling(data=input_data, seed=4938483, n_jobs=1)\n",
    "    \n",
    "    # Compute diagnostics\n",
    "    warning_code = stan_utility.check_all_diagnostics(fit, quiet=True)\n",
    "    \n",
    "    # Compute rank of prior draw with respect to thinned posterior draws\n",
    "    thinned_l = fit.extract()['lambda'][numpy.arange(0, 4000 - 7, 8)]\n",
    "    sbc_rank_l = len(filter(lambda x: x > simu_l, thinned_l))\n",
    "    \n",
    "    thinned_t = fit.extract()['theta'][numpy.arange(0, 4000 - 7, 8)]\n",
    "    sbc_rank_t = len(filter(lambda x: x > simu_t, thinned_t))\n",
    "    \n",
    "    # Compute posterior sensitivities\n",
    "    summary = fit.summary(pars=\"lambda\", probs=[0.5])\n",
    "    post_mean_l = [x[0] for x in summary['summary']][0]\n",
    "    post_sd_l = [x[2] for x in summary['summary']][0]\n",
    "    \n",
    "    prior_sd_l = 6.44787\n",
    "    \n",
    "    z_score_l = (post_mean_l - simu_l) / post_sd_l\n",
    "    shrinkage_l = 1 - (post_sd_l / prior_sd_l)**2\n",
    "    \n",
    "    summary = fit.summary(pars=\"theta\", probs=[0.5])\n",
    "    post_mean_t = [x[0] for x in summary['summary']][0]\n",
    "    post_sd_t = [x[2] for x in summary['summary']][0]\n",
    "    \n",
    "    prior_sd_t = math.sqrt(1.0 / 12)\n",
    "    \n",
    "    z_score_t = (post_mean_t - simu_t) / post_sd_t\n",
    "    shrinkage_t = 1 - (post_sd_t / prior_sd_t)**2\n",
    "        \n",
    "    return [warning_code, sbc_rank_l, z_score_l, shrinkage_l,\n",
    "                          sbc_rank_t, z_score_t, shrinkage_t]"
   ]
  },
  {
   "cell_type": "code",
   "execution_count": 52,
   "metadata": {
    "collapsed": false
   },
   "outputs": [],
   "source": [
    "pool = multiprocessing.Pool(4)\n",
    "ensemble_output = pool.map(analyze_simu, simus)"
   ]
  },
  {
   "cell_type": "markdown",
   "metadata": {},
   "source": [
    "First things first we check the fit diagnostics for each replication."
   ]
  },
  {
   "cell_type": "code",
   "execution_count": 54,
   "metadata": {
    "collapsed": false
   },
   "outputs": [
    {
     "name": "stdout",
     "output_type": "stream",
     "text": [
      "Some posterior fits in the generative ensemble encountered problems!\n",
      "Replication 520 of 1000\n",
      "Simulated lambda = 12.3507918959\n",
      "Simulated theta = 0.127310630829\n",
      "treedepth warning\n",
      "\n",
      "Replication 551 of 1000\n",
      "Simulated lambda = 12.5424015748\n",
      "Simulated theta = 0.14390969243\n",
      "treedepth warning\n",
      "\n",
      "Replication 629 of 1000\n",
      "Simulated lambda = 11.7285375341\n",
      "Simulated theta = 0.874235662538\n",
      "treedepth warning\n",
      "\n",
      "Replication 748 of 1000\n",
      "Simulated lambda = 14.7118484978\n",
      "Simulated theta = 0.948596055573\n",
      "treedepth warning\n",
      "\n"
     ]
    }
   ],
   "source": [
    "warning_codes = [x[0] for x in ensemble_output]\n",
    "if sum(warning_codes) is not 0:\n",
    "    print (\"Some posterior fits in the generative \" +\n",
    "           \"ensemble encountered problems!\")\n",
    "    for r in range(R):\n",
    "        if warning_codes[r] is not 0:\n",
    "            print('Replication {} of {}'.format(r, R))\n",
    "            print('Simulated lambda = {}'.format(simu_lambdas[r]))\n",
    "            print('Simulated theta = {}'.format(simu_thetas[r]))\n",
    "            stan_utility.parse_warning_code(warning_codes[r])\n",
    "            print(\"\")\n",
    "else:\n",
    "    print (\"No posterior fits in the generative \" +\n",
    "           \"ensemble encountered problems!\")"
   ]
  },
  {
   "cell_type": "markdown",
   "metadata": {},
   "source": [
    "Unfortunately our computed fits are nowhere near as reliable for this expanded\n",
    "model!  Indeed if we carefully analyze the simulated model configurations for \n",
    "each of the problematic fits we notice that problems arise whenever $\\lambda$ is \n",
    "small or $\\theta$ is large.  That seems a little suspicious, no?\n",
    "\n",
    "It should, because this is a manifestation of a _non-identifiability_ hiding in\n",
    "our zero-inflated model.  When the Poisson source strength is small enough the\n",
    "resulting distribution will be indistinguishable from the distribution \n",
    "concentrated at zero that we are using to model the excess zeroes.\n",
    "\n",
    "While we could try to reconfigure our computational method to better handle this\n",
    "non-identifiability, its manifestation provides us with an opportunity to \n",
    "reconsider our domain expertise and tweak our model.  Is it reasonable for the\n",
    "source intensity to be small enough that we would expect mostly zeroes from the\n",
    "Poisson model?\n",
    "\n",
    "Because computational problems correlate with extreme posterior behavior, they\n",
    "have a knack for identifying the deficiency of the domain expertise we've\n",
    "incorporated into our model.  We should heed their warnings carefully!"
   ]
  },
  {
   "cell_type": "markdown",
   "metadata": {},
   "source": [
    "## Third Iteration: It's About the Journey, Not The Destination, Right?\n",
    "\n",
    "Taking a deep breath we push on with our third iteration of the model building\n",
    "workflow.\n",
    "\n",
    "### Step One: Conceptual Analysis\n",
    "\n",
    "Just how reasonable is it for a working detector aimed at a well-known source\n",
    "to admit a small Poisson intensity, or for all of the detectors to be working\n",
    "or not working?  The problems identified by the above computational problems \n",
    "identified some important questions that we hadn't addressed with our domain\n",
    "expertise.  \n",
    "\n",
    "Upon reflection let's say that our domain expertise specifies that the source\n",
    "we're studying has been previously calibrated to test detectors like these so\n",
    "that zero observations are rare for a working detector exposed to the source for\n",
    "as long as ours were.  Moreover, while some of the detectors may be flakey, a \n",
    "bunch were recently used and so not all of them should be failing.  While our\n",
    "observational model will not change, these recognitions imply more informative \n",
    "priors for the zero-inflated model.  Working detectors and malfunctioning\n",
    "detectors should be distinguishable!\n",
    "\n",
    "Importantly these insights were not learned from any observations.  They come \n",
    "from domain expertise that has always existed, if not within us then within our \n",
    "colleagues, but had not been incorporated into our model.  Only when \n",
    "computational problems identified pathological behaviors did we reevaluate and\n",
    "expand our domain expertise.\n",
    "\n",
    "### Step Two: Define Observations\n",
    "\n",
    "The observation space remains the same.\n",
    "\n",
    "### Step Three: Identify Relevant Summary Statistics\n",
    "\n",
    "As does the utility of the histogram summary.\n",
    "\n",
    "### Step Four: Build a Model\n",
    "\n",
    "We need to introduce prior distributions that incorporate enough of our newly\n",
    "considered domain expertise to separate the behavior of the working detectors \n",
    "and the malfunctioning detectors.  At the same time we have to be careful to \n",
    "avoid using the observed data to inform these prior distributions lest we \n",
    "introduce the potential for overfitting to that observation.  Instead we want to \n",
    "use the tension in the posterior predictive check to suggest an additional model \n",
    "component, here the zero-inflation, and then use our domain expertise to \n",
    "motivate appropriate prior distributions independent of the details of the \n",
    "observation itself.\n",
    "\n",
    "We can tame the non-identifiability that is inconsistent with our domain\n",
    "expertise by utilizing an inverse Gamma distribution that places only 1%\n",
    "probability below $\\lambda = 1$, where the Poisson distribution starts to look\n",
    "like the distribution concentrated at zero that we're using to model the\n",
    "malfunctioning detectors.  At the same time we want to maintain 1% of the prior \n",
    "probability above $\\lambda = 15$."
   ]
  },
  {
   "cell_type": "code",
   "execution_count": 55,
   "metadata": {
    "collapsed": false
   },
   "outputs": [
    {
     "data": {
      "image/png": "[encoded data removed]",
      "text/plain": [
       "<matplotlib.figure.Figure at 0x1117da890>"
      ]
     },
     "metadata": {},
     "output_type": "display_data"
    }
   ],
   "source": [
    "ls = numpy.arange(0, 20, 0.001)\n",
    "pdfs = [ 9.21604**3.48681 * stats.invgamma.pdf(l / 9.21604 , 3.48681) \n",
    "        for l in ls]\n",
    "plot.plot(ls, pdfs, linewidth=2, color=dark_highlight)\n",
    "\n",
    "ls = numpy.arange(1, 15, 0.001)\n",
    "pdfs = [ 9.21604**3.48681 * stats.invgamma.pdf(l / 9.21604 , 3.48681) \n",
    "        for l in ls]\n",
    "plot.fill_between(ls, 0, pdfs, color=dark_highlight)\n",
    "\n",
    "plot.gca().set_xlabel(\"lambda\")\n",
    "plot.gca().set_ylabel(\"Prior Density\")\n",
    "plot.gca().axes.get_yaxis().set_visible(False)\n",
    "plot.show()"
   ]
  },
  {
   "cell_type": "markdown",
   "metadata": {},
   "source": [
    "Additionally, let's take a prior distribution for the zero mixture probability,\n",
    "$\\theta$, that puts only 1% probability mass below 0.1 and above 0.9 to capture\n",
    "our domain knowledge that some detectors are expected to fail but not all of\n",
    "them.  Again, we want to be careful to not use the exact number of zeros in the\n",
    "observed data to inform this prior distribution."
   ]
  },
  {
   "cell_type": "code",
   "execution_count": 56,
   "metadata": {
    "collapsed": false
   },
   "outputs": [
    {
     "data": {
      "image/png": "[encoded data removed]",
      "text/plain": [
       "<matplotlib.figure.Figure at 0x11206dd90>"
      ]
     },
     "metadata": {},
     "output_type": "display_data"
    }
   ],
   "source": [
    "ts = numpy.arange(0, 1, 0.001)\n",
    "pdfs = [ stats.beta.pdf(t, 2.8663, 2.8663) for t in ts]\n",
    "plot.plot(ts, pdfs, linewidth=2, color=dark_highlight)\n",
    "\n",
    "ts = numpy.arange(0.1, 0.9, 0.001)\n",
    "pdfs = [ stats.beta.pdf(t, 2.8663, 2.8663) for t in ts]\n",
    "plot.fill_between(ts, 0, pdfs, color=dark_highlight)\n",
    "\n",
    "plot.gca().set_xlabel(\"theta\")\n",
    "plot.gca().set_ylabel(\"Prior Density\")\n",
    "plot.gca().axes.get_yaxis().set_visible(False)\n",
    "plot.show()"
   ]
  },
  {
   "cell_type": "markdown",
   "metadata": {},
   "source": [
    "The new model is implemented in the Stan programs"
   ]
  },
  {
   "cell_type": "code",
   "execution_count": 57,
   "metadata": {
    "collapsed": false
   },
   "outputs": [
    {
     "name": "stdout",
     "output_type": "stream",
     "text": [
      "data {\n",
      "  int N;\n",
      "}\n",
      "\n",
      "generated quantities {\n",
      "  // Simulate model configuration from prior model\n",
      "  real<lower=0, upper=1> theta = beta_rng(2.8663, 2.8663);\n",
      "  real<lower=0> lambda = inv_gamma_rng(3.48681, 9.21604);\n",
      "  \n",
      "  // Simulate data from observational model\n",
      "  int y[N] = rep_array(0, N);\n",
      "  for (n in 1:N)\n",
      "    if (!bernoulli_rng(theta))\n",
      "      y[n] = poisson_rng(lambda);\n",
      "}\n",
      "\n"
     ]
    }
   ],
   "source": [
    "with open('sample_joint_ensemble3.stan', 'r') as file:\n",
    "    print(file.read())"
   ]
  },
  {
   "cell_type": "code",
   "execution_count": 58,
   "metadata": {
    "collapsed": false
   },
   "outputs": [
    {
     "name": "stdout",
     "output_type": "stream",
     "text": [
      "data {\n",
      "  int N;    // Number of observations\n",
      "  int y[N]; // Count at each observation\n",
      "}\n",
      "\n",
      "parameters {\n",
      "  real<lower=0, upper=1> theta; // Excess zero probability\n",
      "  real<lower=0> lambda;         // Poisson intensity\n",
      "}\n",
      "\n",
      "model {\n",
      "  // Prior model\n",
      "  theta ~ beta(2.8663, 2.8663);\n",
      "  lambda ~ inv_gamma(3.48681, 9.21604);\n",
      "\n",
      "  // Observational model that mixes a Poisson with excess zeros\n",
      "  for (n in 1:N) {\n",
      "    real lpdf = poisson_lpmf(y[n] | lambda);\n",
      "    if (y[n] == 0)\n",
      "      target += log_mix(theta, 0, lpdf);\n",
      "    else\n",
      "      target += log(1 - theta) + lpdf;\n",
      "  }\n",
      "}\n",
      "\n"
     ]
    }
   ],
   "source": [
    "with open('fit_data3.stan', 'r') as file:\n",
    "    print(file.read())"
   ]
  },
  {
   "cell_type": "markdown",
   "metadata": {},
   "source": [
    "### Step Five: Identify New Summary Statistics\n",
    "\n",
    "The histogram summary statistic is still capable of capturing the relevant\n",
    "structure of the observations.\n",
    "\n",
    "### Step Six: Analyze the Joint Ensemble\n",
    "\n",
    "The joint ensemble is generated as before."
   ]
  },
  {
   "cell_type": "code",
   "execution_count": 59,
   "metadata": {
    "collapsed": false
   },
   "outputs": [
    {
     "name": "stderr",
     "output_type": "stream",
     "text": [
      "INFO:pystan:COMPILING THE C++ CODE FOR MODEL anon_model_38352babd2cb95947d1b61f776bc0679 NOW.\n"
     ]
    }
   ],
   "source": [
    "model = stan_utility.compile_model('sample_joint_ensemble3.stan')\n",
    "fit = model.sampling(data=simu_data,\n",
    "                     iter=R, warmup=0, chains=1, refresh=R,\n",
    "                     seed=4838282, algorithm=\"Fixed_param\")\n",
    "\n",
    "simu_lambdas = fit.extract()['lambda']\n",
    "simu_thetas = fit.extract()['theta']\n",
    "simu_ys = fit.extract()['y'].astype(numpy.int64)"
   ]
  },
  {
   "cell_type": "markdown",
   "metadata": {},
   "source": [
    "#### Analyze the Prior Predictive Distribution\n",
    "\n",
    "With the modified prior distributions we see a slightly different prior\n",
    "predictive average histogram, but one still compatible with our domain\n",
    "expertise."
   ]
  },
  {
   "cell_type": "code",
   "execution_count": 60,
   "metadata": {
    "collapsed": false
   },
   "outputs": [
    {
     "data": {
      "image/png": "[encoded data removed]",
      "text/plain": [
       "<matplotlib.figure.Figure at 0x114d16310>"
      ]
     },
     "metadata": {},
     "output_type": "display_data"
    }
   ],
   "source": [
    "max_y = 60\n",
    "B = max_y + 1\n",
    "\n",
    "bins = [b - 0.5 for b in range(B + 1)]\n",
    "\n",
    "counts = [numpy.histogram(simu_ys[r], bins=bins)[0] for r in range(R)]\n",
    "probs = [10, 20, 30, 40, 50, 60, 70, 80, 90]\n",
    "creds = [numpy.percentile([count[b] for count in counts], probs)\n",
    "         for b in range(B)]\n",
    "\n",
    "idxs = [ idx for idx in range(B) for r in range(2) ]\n",
    "xs = [ idx + delta for idx in range(B) for delta in [-0.5, 0.5]]\n",
    "      \n",
    "pad_creds = [ creds[idx] for idx in idxs ]\n",
    "\n",
    "plot.fill_between(xs, [c[0] for c in pad_creds], [c[8] for c in pad_creds],\n",
    "                  facecolor=light, color=light)\n",
    "plot.fill_between(xs, [c[0] for c in pad_creds], [c[7] for c in pad_creds],\n",
    "                  facecolor=light_highlight, color=light_highlight)\n",
    "plot.fill_between(xs, [c[2] for c in pad_creds], [c[6] for c in pad_creds],\n",
    "                  facecolor=mid, color=mid)\n",
    "plot.fill_between(xs, [c[3] for c in pad_creds], [c[5] for c in pad_creds],\n",
    "                  facecolor=mid_highlight, color=mid_highlight)\n",
    "plot.plot(xs, [c[4] for c in pad_creds], color=dark)\n",
    "\n",
    "plot.gca().set_xlim([min(bins), max(bins)])\n",
    "plot.gca().set_xlabel(\"y\")\n",
    "plot.gca().set_ylim([0, max([c[8] for c in creds])])\n",
    "plot.gca().set_ylabel(\"Prior Predictive Distribution\")\n",
    "\n",
    "plot.axvline(x=25, linewidth=2.5, color=\"white\")\n",
    "plot.axvline(x=25, linewidth=2, color=\"black\")\n",
    "\n",
    "plot.show()"
   ]
  },
  {
   "cell_type": "markdown",
   "metadata": {},
   "source": [
    "Indeed we have the desired low probability for extreme observations."
   ]
  },
  {
   "cell_type": "code",
   "execution_count": 61,
   "metadata": {
    "collapsed": false
   },
   "outputs": [
    {
     "data": {
      "text/plain": [
       "0.00249"
      ]
     },
     "execution_count": 61,
     "metadata": {},
     "output_type": "execute_result"
    }
   ],
   "source": [
    "float(len([ y for y in simu_ys.flatten() if y > 25 ])) / len(simu_ys.flatten())"
   ]
  },
  {
   "cell_type": "markdown",
   "metadata": {},
   "source": [
    "#### Evaluate Simulated Fits\n",
    "\n",
    "We can now proceed to fitting each replication, updating the posterior\n",
    "shrinkage calculations to take into account the updated prior distributions."
   ]
  },
  {
   "cell_type": "markdown",
   "metadata": {},
   "source": [
    "### Step Five: Identify New Summary Statistics\n",
    "\n",
    "Because zero-inflation manifests in the histogram summary statistic we don't\n",
    "need a new summary statistic to isolate this behavior.  If we wanted to be\n",
    "exhaustive, however, we could consider new summary statistics such as the \n",
    "number of observed zeros or the ratio of observed zeroes to total observations.\n",
    "\n",
    "### Step Six: Analyze the Joint Ensemble\n",
    "\n",
    "The structure of our joint ensemble doesn't change."
   ]
  },
  {
   "cell_type": "markdown",
   "metadata": {},
   "source": [
    "With the non-identifiability tempered there are no diagnostic indications of\n",
    "fitting problems, save for a lone treedepth warming which denotes a slighty inefficiency but importantly no bias in our computation."
   ]
  },
  {
   "cell_type": "code",
   "execution_count": 62,
   "metadata": {
    "collapsed": false
   },
   "outputs": [
    {
     "name": "stderr",
     "output_type": "stream",
     "text": [
      "INFO:pystan:COMPILING THE C++ CODE FOR MODEL anon_model_9d83d7ba36f730e9220f0dac299fee96 NOW.\n"
     ]
    }
   ],
   "source": [
    "simus = zip(simu_lambdas, simu_thetas, simu_ys)\n",
    "fit_model = stan_utility.compile_model('fit_data3.stan')\n",
    "\n",
    "def analyze_simu(simu):\n",
    "    simu_l = simu[0]\n",
    "    simu_t = simu[1]\n",
    "    simu_y = simu[2]\n",
    "    \n",
    "    # Fit the simulated observation\n",
    "    input_data = dict(N = N, y = simu_y)\n",
    "    \n",
    "    fit = fit_model.sampling(data=input_data, seed=4938483, n_jobs=1)\n",
    "    \n",
    "    # Compute diagnostics\n",
    "    warning_code = stan_utility.check_all_diagnostics(fit, quiet=True)\n",
    "    \n",
    "    # Compute rank of prior draw with respect to thinned posterior draws\n",
    "    thinned_l = fit.extract()['lambda'][numpy.arange(0, 4000 - 7, 8)]\n",
    "    sbc_rank_l = len(filter(lambda x: x > simu_l, thinned_l))\n",
    "    \n",
    "    thinned_t = fit.extract()['theta'][numpy.arange(0, 4000 - 7, 8)]\n",
    "    sbc_rank_t = len(filter(lambda x: x > simu_t, thinned_t))\n",
    "    \n",
    "    # Compute posterior sensitivities\n",
    "    summary = fit.summary(pars=\"lambda\", probs=[0.5])\n",
    "    post_mean_l = [x[0] for x in summary['summary']][0]\n",
    "    post_sd_l = [x[2] for x in summary['summary']][0]\n",
    "    \n",
    "    prior_sd_l = math.sqrt( (9.21604)**2 / ((3.48681 - 1)**2 * (3.48681 - 1)) )\n",
    "    \n",
    "    z_score_l = (post_mean_l - simu_l) / post_sd_l\n",
    "    shrinkage_l = 1 - (post_sd_l / prior_sd_l)**2\n",
    "    \n",
    "    summary = fit.summary(pars=\"theta\", probs=[0.5])\n",
    "    post_mean_t = [x[0] for x in summary['summary']][0]\n",
    "    post_sd_t = [x[2] for x in summary['summary']][0]\n",
    "    \n",
    "    prior_sd_t = math.sqrt( (2.8663)**2 / (4 * (2.8663)**2 * (2 * 2.8663 + 1)) )\n",
    "    \n",
    "    z_score_t = (post_mean_t - simu_t) / post_sd_t\n",
    "    shrinkage_t = 1 - (post_sd_t / prior_sd_t)**2\n",
    "        \n",
    "    return [warning_code, sbc_rank_l, z_score_l, shrinkage_l,\n",
    "                          sbc_rank_t, z_score_t, shrinkage_t]\n"
   ]
  },
  {
   "cell_type": "code",
   "execution_count": 63,
   "metadata": {
    "collapsed": true
   },
   "outputs": [],
   "source": [
    "pool = multiprocessing.Pool(4)\n",
    "ensemble_output = pool.map(analyze_simu, simus)"
   ]
  },
  {
   "cell_type": "code",
   "execution_count": 64,
   "metadata": {
    "collapsed": false
   },
   "outputs": [
    {
     "name": "stdout",
     "output_type": "stream",
     "text": [
      "Some posterior fits in the generative ensemble encountered problems!\n",
      "Replication 998 of 1000\n",
      "Simulated lambda = 11.6884737351\n",
      "Simulated theta = 0.263512925907\n",
      "treedepth warning\n",
      "\n"
     ]
    }
   ],
   "source": [
    "warning_codes = [x[0] for x in ensemble_output]\n",
    "if sum(warning_codes) is not 0:\n",
    "    print (\"Some posterior fits in the generative \" +\n",
    "           \"ensemble encountered problems!\")\n",
    "    for r in range(R):\n",
    "        if warning_codes[r] is not 0:\n",
    "            print('Replication {} of {}'.format(r, R))\n",
    "            print('Simulated lambda = {}'.format(simu_lambdas[r]))\n",
    "            print('Simulated theta = {}'.format(simu_thetas[r]))\n",
    "            stan_utility.parse_warning_code(warning_codes[r])\n",
    "            print(\"\")\n",
    "else:\n",
    "    print (\"No posterior fits in the generative \" +\n",
    "           \"ensemble encountered problems!\")"
   ]
  },
  {
   "cell_type": "markdown",
   "metadata": {},
   "source": [
    "#### Implement Simulated-Based Calibration\n",
    "\n",
    "Similarly, the simulation-based histograms for both $\\lambda$ and $\\theta$ show \n",
    "no signs of errors in our fits."
   ]
  },
  {
   "cell_type": "code",
   "execution_count": 65,
   "metadata": {
    "collapsed": false
   },
   "outputs": [
    {
     "data": {
      "image/png": "[encoded data removed]",
      "text/plain": [
       "<matplotlib.figure.Figure at 0x114caa0d0>"
      ]
     },
     "metadata": {},
     "output_type": "display_data"
    }
   ],
   "source": [
    "sbc_low = stats.binom.ppf(0.005, R, 25.0 / 500)\n",
    "sbc_mid = stats.binom.ppf(0.5, R, 25.0 / 500)\n",
    "sbc_high = stats.binom.ppf(0.995, R, 25.0 / 500)\n",
    "\n",
    "bar_x = [-10, 510, 500, 510, -10, 0, -10]\n",
    "bar_y = [sbc_high, sbc_high, sbc_mid, sbc_low, sbc_low, sbc_mid, sbc_high]\n",
    "\n",
    "plot.fill(bar_x, bar_y, color=\"#DDDDDD\", ec=\"#DDDDDD\")\n",
    "plot.plot([0, 500], [sbc_mid, sbc_mid], color=\"#999999\", linewidth=2)\n",
    "\n",
    "sbc_ranks = [x[1] for x in ensemble_output]\n",
    "\n",
    "plot.hist(sbc_ranks, bins=[25 * x - 0.5 for x in range(21)],\n",
    "          color=dark, ec=dark_highlight, zorder=3)\n",
    "\n",
    "plot.gca().set_xlabel(\"Prior Rank (Lambda)\")\n",
    "plot.gca().set_xlim(-10, 510)\n",
    "plot.gca().axes.get_yaxis().set_visible(False)\n",
    "\n",
    "plot.show()"
   ]
  },
  {
   "cell_type": "code",
   "execution_count": 66,
   "metadata": {
    "collapsed": false
   },
   "outputs": [
    {
     "data": {
      "image/png": "[encoded data removed]",
      "text/plain": [
       "<matplotlib.figure.Figure at 0x114caaed0>"
      ]
     },
     "metadata": {},
     "output_type": "display_data"
    }
   ],
   "source": [
    "plot.fill(bar_x, bar_y, color=\"#DDDDDD\", ec=\"#DDDDDD\")\n",
    "plot.plot([0, 500], [sbc_mid, sbc_mid], color=\"#999999\", linewidth=2)\n",
    "\n",
    "sbc_ranks = [x[4] for x in ensemble_output]\n",
    "\n",
    "plot.hist(sbc_ranks, bins=[25 * x - 0.5 for x in range(21)],\n",
    "          color=dark, ec=dark_highlight, zorder=3)\n",
    "\n",
    "plot.gca().set_xlabel(\"Prior Rank (Theta)\")\n",
    "plot.gca().set_xlim(-10, 510)\n",
    "plot.gca().axes.get_yaxis().set_visible(False)\n",
    "\n",
    "plot.show()"
   ]
  },
  {
   "cell_type": "markdown",
   "metadata": {},
   "source": [
    "#### Analyze General Model Sensitivity\n",
    "\n",
    "This leaves us to check the ensemble behavior of our recovered posterior\n",
    "distributions which looks reasonable for both parameters."
   ]
  },
  {
   "cell_type": "code",
   "execution_count": 67,
   "metadata": {
    "collapsed": false
   },
   "outputs": [
    {
     "data": {
      "image/png": "[encoded data removed]",
      "text/plain": [
       "<matplotlib.figure.Figure at 0x110fb7150>"
      ]
     },
     "metadata": {},
     "output_type": "display_data"
    }
   ],
   "source": [
    "z_scores = [x[2] for x in ensemble_output]\n",
    "shrinkages = [x[3] for x in ensemble_output]\n",
    "\n",
    "plot.scatter(shrinkages, z_scores, color=dark, alpha=0.2)\n",
    "plot.gca().set_xlabel(\"Posterior Shrinkage\")\n",
    "plot.gca().set_xlim(0, 1)\n",
    "plot.gca().set_ylabel(\"Posterior z-Score\")\n",
    "plot.gca().set_ylim(-5, 5)\n",
    "plot.title(\"Lambda\")\n",
    "\n",
    "plot.show()"
   ]
  },
  {
   "cell_type": "code",
   "execution_count": 68,
   "metadata": {
    "collapsed": false
   },
   "outputs": [
    {
     "data": {
      "image/png": "[encoded data removed]",
      "text/plain": [
       "<matplotlib.figure.Figure at 0x111fbf950>"
      ]
     },
     "metadata": {},
     "output_type": "display_data"
    }
   ],
   "source": [
    "z_scores = [x[5] for x in ensemble_output]\n",
    "shrinkages = [x[6] for x in ensemble_output]\n",
    "\n",
    "plot.scatter(shrinkages, z_scores, color=dark, alpha=0.2)\n",
    "plot.gca().set_xlabel(\"Posterior Shrinkage\")\n",
    "plot.gca().set_xlim(0, 1)\n",
    "plot.gca().set_ylabel(\"Posterior z-Score\")\n",
    "plot.gca().set_ylim(-5, 5)\n",
    "plot.title(\"Theta\")\n",
    "\n",
    "plot.show()\n"
   ]
  },
  {
   "cell_type": "markdown",
   "metadata": {},
   "source": [
    "### Step Seven: Fit the Observations and Evaluate\n",
    "\n",
    "Confident in the performance of the expanded model within the scope of its\n",
    "own assumptions we go back to fit the observed data once again."
   ]
  },
  {
   "cell_type": "code",
   "execution_count": 96,
   "metadata": {
    "collapsed": false
   },
   "outputs": [
    {
     "name": "stdout",
     "output_type": "stream",
     "text": [
      "Using cached StanModel\n"
     ]
    }
   ],
   "source": [
    "model = stan_utility.compile_model('fit_data3_ppc.stan')\n",
    "fit = model.sampling(data=data, seed=4838282)"
   ]
  },
  {
   "cell_type": "markdown",
   "metadata": {},
   "source": [
    "The diagnostics look good,"
   ]
  },
  {
   "cell_type": "code",
   "execution_count": 97,
   "metadata": {
    "collapsed": false
   },
   "outputs": [
    {
     "name": "stdout",
     "output_type": "stream",
     "text": [
      "n_eff / iter looks reasonable for all parameters\n",
      "Rhat looks reasonable for all parameters\n",
      "0.0 of 4000 iterations ended with a divergence (0.0%)\n",
      "0 of 4000 iterations saturated the maximum tree depth of 10 (0%)\n",
      "E-BFMI indicated no pathological behavior\n"
     ]
    }
   ],
   "source": [
    "stan_utility.check_all_diagnostics(fit)"
   ]
  },
  {
   "cell_type": "markdown",
   "metadata": {},
   "source": [
    "and the marginal posterior distributions look reasonable."
   ]
  },
  {
   "cell_type": "code",
   "execution_count": 98,
   "metadata": {
    "collapsed": false
   },
   "outputs": [
    {
     "data": {
      "image/png": "[encoded data removed]",
      "text/plain": [
       "<matplotlib.figure.Figure at 0x116c1c350>"
      ]
     },
     "metadata": {},
     "output_type": "display_data"
    }
   ],
   "source": [
    "params = fit.extract()\n",
    "\n",
    "f, axarr = plot.subplots(1, 2)\n",
    "    \n",
    "axarr[0].set_title(\"lambda\")\n",
    "axarr[0].hist(params['lambda'], bins = 25, color = dark, ec = dark_highlight)\n",
    "axarr[0].get_yaxis().set_visible(False)\n",
    "\n",
    "axarr[1].set_title(\"theta\")\n",
    "axarr[1].hist(params['theta'], bins = 25, color = dark, ec = dark_highlight)\n",
    "axarr[1].get_yaxis().set_visible(False)\n",
    "\n",
    "plot.show()"
   ]
  },
  {
   "cell_type": "markdown",
   "metadata": {},
   "source": [
    "### Step Eight: Analyze the Posterior Predictive Distribution\n",
    "\n",
    "Excited that we might finally have an adequate model we proceed to the\n",
    "posterior predictive check."
   ]
  },
  {
   "cell_type": "code",
   "execution_count": 99,
   "metadata": {
    "collapsed": false
   },
   "outputs": [
    {
     "data": {
      "image/png": "[encoded data removed]",
      "text/plain": [
       "<matplotlib.figure.Figure at 0x115b00150>"
      ]
     },
     "metadata": {},
     "output_type": "display_data"
    }
   ],
   "source": [
    "max_y = 30\n",
    "B = max_y + 1\n",
    "\n",
    "bins = [b - 0.5 for b in range(B + 1)]\n",
    "\n",
    "idxs = [ idx for idx in range(B) for r in range(2) ]\n",
    "xs = [ idx + delta for idx in range(B) for delta in [-0.5, 0.5]]\n",
    "      \n",
    "obs_counts = numpy.histogram(data['y'], bins=bins)[0]\n",
    "pad_obs_counts = [ obs_counts[idx] for idx in idxs ]\n",
    "\n",
    "counts = [numpy.histogram(params['y_ppc'][n], bins=bins)[0] for n in range(4000)]\n",
    "probs = [10, 20, 30, 40, 50, 60, 70, 80, 90]\n",
    "creds = [numpy.percentile([count[b] for count in counts], probs)\n",
    "         for b in range(B)]\n",
    "\n",
    "pad_creds = [ creds[idx] for idx in idxs ]\n",
    "\n",
    "plot.fill_between(xs, [c[0] for c in pad_creds], [c[8] for c in pad_creds],\n",
    "                  facecolor=light, color=light)\n",
    "plot.fill_between(xs, [c[1] for c in pad_creds], [c[7] for c in pad_creds],\n",
    "                  facecolor=light_highlight, color=light_highlight)\n",
    "plot.fill_between(xs, [c[2] for c in pad_creds], [c[6] for c in pad_creds],\n",
    "                  facecolor=mid, color=mid)\n",
    "plot.fill_between(xs, [c[3] for c in pad_creds], [c[5] for c in pad_creds],\n",
    "                  facecolor=mid_highlight, color=mid_highlight)\n",
    "plot.plot(xs, [c[4] for c in pad_creds], color=dark)\n",
    "\n",
    "plot.plot(xs, pad_obs_counts, linewidth=2.5, color=\"white\")\n",
    "plot.plot(xs, pad_obs_counts, linewidth=2.0, color=\"black\")\n",
    "\n",
    "plot.gca().set_xlim([min(bins), max(bins)])\n",
    "plot.gca().set_xlabel(\"y\")\n",
    "plot.gca().set_ylim([0, max(max(obs_counts), max([c[8] for c in creds]))])\n",
    "plot.gca().set_ylabel(\"Posterior Predictive Distribution\")\n",
    "\n",
    "plot.show()"
   ]
  },
  {
   "cell_type": "markdown",
   "metadata": {},
   "source": [
    "Frustratingly we see that the tail of the posterior predictive histogram seems to extend\n",
    "beyond that in the observed data.  This suggests that the detector responses may be truncated and unable to record values above $y = 14$.  At this point we are slightly suspicious of the exact measurement process but don't have enough domain expertise to suggest an expanded model with any confidence.  Before considering any expansions we need to consult with the one person who was there."
   ]
  },
  {
   "cell_type": "markdown",
   "metadata": {},
   "source": [
    "## Fourth Iteration: Coffee Is For Closers\n",
    "\n",
    "A principled analysis workflow is a powerful investigatory tool for identifying\n",
    "subtle structure in the observed data and motivating appropriate model features.\n",
    "There is a fine line, however, between improving the model and overfitting to\n",
    "the given observation.  To avoid crossing this line we have to lean on our\n",
    "domain expertise, and sometimess the domain expertise of others.\n",
    "\n",
    "### Step One: Conceptual Analysis\n",
    "\n",
    "Suspicious of the experimental setup under which the data were collected we ask\n",
    "to meet with the student who ran the experiment.  When we bring up the odd\n",
    "behavior we saw the student seems nonchalant.  \"Oh, you mean like when the\n",
    "detectors didn't read out anything at all?\" they say. \"I just repeated the\n",
    "measurement for each detector until they reported an actual value.\" they say.\n",
    "\n",
    "And there it is.  The readout system for detectors seems to be vulnerable to\n",
    "overloading when the counts surpass a given value, returning no value at all.\n",
    "When the student repeated the measurement for detectors in this state they\n",
    "unintentionally induced a _truncated observation_ where the Poisson distribution\n",
    "is cutoff at a certain value.\n",
    "\n",
    "### Step Two: Define Observations\n",
    "\n",
    "The observation space does not change.\n",
    "\n",
    "### Step Three: Identify Relevant Summary Statistics\n",
    "\n",
    "The same histogram summary remains appropriate.\n",
    "\n",
    "### Step Four: Build a Model\n",
    "\n",
    "We now have to augment out observational model to account for the truncation of\n",
    "the counts.  Ideally we would treat the truncation threshold as a systematic\n",
    "parameter here and infer it with uncertainties to avoid overfitting to our one\n",
    "observation.  Unfortunately that model is a bit ungainly, so for pedagogical\n",
    "simplification we will take the fixed threshold of $y = 14$ implied by the\n",
    "observed data assuming that it too is consistent with our hypothetical domain\n",
    "expertise."
   ]
  },
  {
   "cell_type": "code",
   "execution_count": 76,
   "metadata": {
    "collapsed": false
   },
   "outputs": [
    {
     "name": "stdout",
     "output_type": "stream",
     "text": [
      "data {\n",
      "  int N;\n",
      "}\n",
      "\n",
      "transformed data {\n",
      "  int U = 14;\n",
      "}\n",
      "\n",
      "generated quantities {\n",
      "  // Simulate model configuration from prior model\n",
      "  real<lower=0, upper=1> theta = beta_rng(2.8663, 2.8663);\n",
      "  real<lower=0> lambda = inv_gamma_rng(3.48681, 9.21604);\n",
      "\n",
      "  // Simulate data from observational model\n",
      "  int y[N] = rep_array(0, N);\n",
      "  for (n in 1:N) {\n",
      "    if (!bernoulli_rng(theta)) {\n",
      "      y[n] = U + 1;\n",
      "      while (y[n] > U)\n",
      "        y[n] = poisson_rng(lambda);\n",
      "    }\n",
      "  }\n",
      "}\n",
      "\n"
     ]
    }
   ],
   "source": [
    "with open('sample_joint_ensemble4.stan', 'r') as file:\n",
    "    print(file.read())"
   ]
  },
  {
   "cell_type": "code",
   "execution_count": 74,
   "metadata": {
    "collapsed": false
   },
   "outputs": [
    {
     "name": "stdout",
     "output_type": "stream",
     "text": [
      "data {\n",
      "  int N;    // Number of observations\n",
      "  int y[N]; // Count at each observation\n",
      "}\n",
      "\n",
      "parameters {\n",
      "  real<lower=0, upper=1> theta; // Excess zero probability\n",
      "  real<lower=0> lambda;         // Poisson intensity\n",
      "}\n",
      "\n",
      "model {\n",
      "  // Prior model\n",
      "  theta ~ beta(2.8663, 2.8663);\n",
      "  lambda ~ inv_gamma(3.48681, 9.21604);\n",
      "\n",
      "  // Observational model that mixes a Poisson with excess zeros\n",
      "  for (n in 1:N) {\n",
      "    real lpdf = poisson_lpmf(y[n] | lambda);\n",
      "    if (y[n] == 0)\n",
      "      target += log_mix(theta, 0, lpdf);\n",
      "    else\n",
      "      target += log(1 - theta) + lpdf;\n",
      "  }\n",
      "}\n",
      "\n"
     ]
    }
   ],
   "source": [
    "with open('fit_data4.stan', 'r') as file:\n",
    "    print(file.read())"
   ]
  },
  {
   "cell_type": "markdown",
   "metadata": {},
   "source": [
    "### Step Five: Identify New Summary Statistics\n",
    "\n",
    "Truncation already manifests in the histogram summary statistic so it remains\n",
    "sufficient to capture the relevant structure of the data.\n",
    "\n",
    "### Step Six: Analyze the Joint Ensemble\n",
    "\n",
    "We dutifully generate the joint ensemble of our expanded model."
   ]
  },
  {
   "cell_type": "code",
   "execution_count": 77,
   "metadata": {
    "collapsed": false
   },
   "outputs": [
    {
     "name": "stderr",
     "output_type": "stream",
     "text": [
      "INFO:pystan:COMPILING THE C++ CODE FOR MODEL anon_model_fc05ea38056735b9b0f5cfaeede624cf NOW.\n"
     ]
    }
   ],
   "source": [
    "model = stan_utility.compile_model('sample_joint_ensemble4.stan')\n",
    "fit = model.sampling(data=simu_data,\n",
    "                     iter=R, warmup=0, chains=1, refresh=1000,\n",
    "                     seed=558483, algorithm=\"Fixed_param\")\n",
    "\n",
    "simu_lambdas = fit.extract()['lambda']\n",
    "simu_thetas = fit.extract()['theta']\n",
    "simu_ys = fit.extract()['y'].astype(numpy.int64)"
   ]
  },
  {
   "cell_type": "markdown",
   "metadata": {},
   "source": [
    "#### Analyze the Prior Predictive Distribution\n",
    "\n",
    "The prior predictive distribution of histograms now exhibits both zero-inflation \n",
    "and truncation."
   ]
  },
  {
   "cell_type": "code",
   "execution_count": 78,
   "metadata": {
    "collapsed": false
   },
   "outputs": [
    {
     "data": {
      "image/png": "[encoded data removed]",
      "text/plain": [
       "<matplotlib.figure.Figure at 0x113f679d0>"
      ]
     },
     "metadata": {},
     "output_type": "display_data"
    }
   ],
   "source": [
    "max_y = 26\n",
    "B = max_y + 1\n",
    "\n",
    "bins = [b - 0.5 for b in range(B + 1)]\n",
    "\n",
    "counts = [numpy.histogram(simu_ys[r], bins=bins)[0] for r in range(R)]\n",
    "probs = [10, 20, 30, 40, 50, 60, 70, 80, 90]\n",
    "creds = [numpy.percentile([count[b] for count in counts], probs)\n",
    "         for b in range(B)]\n",
    "\n",
    "idxs = [ idx for idx in range(B) for r in range(2) ]\n",
    "xs = [ idx + delta for idx in range(B) for delta in [-0.5, 0.5]]\n",
    "      \n",
    "pad_creds = [ creds[idx] for idx in idxs ]\n",
    "\n",
    "plot.fill_between(xs, [c[0] for c in pad_creds], [c[8] for c in pad_creds],\n",
    "                  facecolor=light, color=light)\n",
    "plot.fill_between(xs, [c[0] for c in pad_creds], [c[7] for c in pad_creds],\n",
    "                  facecolor=light_highlight, color=light_highlight)\n",
    "plot.fill_between(xs, [c[2] for c in pad_creds], [c[6] for c in pad_creds],\n",
    "                  facecolor=mid, color=mid)\n",
    "plot.fill_between(xs, [c[3] for c in pad_creds], [c[5] for c in pad_creds],\n",
    "                  facecolor=mid_highlight, color=mid_highlight)\n",
    "plot.plot(xs, [c[4] for c in pad_creds], color=dark)\n",
    "\n",
    "plot.gca().set_xlim([min(bins), max(bins)])\n",
    "plot.gca().set_xlabel(\"y\")\n",
    "plot.gca().set_ylim([0, max([c[8] for c in creds])])\n",
    "plot.gca().set_ylabel(\"Prior Predictive Distribution\")\n",
    "\n",
    "plot.axvline(x=25, linewidth=2.5, color=\"white\")\n",
    "plot.axvline(x=25, linewidth=2, color=\"black\")\n",
    "\n",
    "plot.show()"
   ]
  },
  {
   "cell_type": "markdown",
   "metadata": {},
   "source": [
    "With the truncation we now have exactly zero prior predictive probability above\n",
    "the extreme observation scale derived from our domain expertise."
   ]
  },
  {
   "cell_type": "code",
   "execution_count": 79,
   "metadata": {
    "collapsed": false
   },
   "outputs": [
    {
     "data": {
      "text/plain": [
       "0.0"
      ]
     },
     "execution_count": 79,
     "metadata": {},
     "output_type": "execute_result"
    }
   ],
   "source": [
    "float(len([ y for y in simu_ys.flatten() if y > 25 ])) / len(simu_ys.flatten())"
   ]
  },
  {
   "cell_type": "markdown",
   "metadata": {},
   "source": [
    "#### Evaluate Simulated Fits\n",
    "\n",
    "We continue to fitting each replication in our joint ensemble."
   ]
  },
  {
   "cell_type": "code",
   "execution_count": 81,
   "metadata": {
    "collapsed": false
   },
   "outputs": [
    {
     "name": "stderr",
     "output_type": "stream",
     "text": [
      "INFO:pystan:COMPILING THE C++ CODE FOR MODEL anon_model_154ff9d1126170aed95cae9adf16d236 NOW.\n"
     ]
    }
   ],
   "source": [
    "simus = zip(simu_lambdas, simu_thetas, simu_ys)\n",
    "fit_model = stan_utility.compile_model('fit_data4.stan')\n",
    "\n",
    "def analyze_simu(simu):\n",
    "    simu_l = simu[0]\n",
    "    simu_t = simu[1]\n",
    "    simu_y = simu[2]\n",
    "    \n",
    "    # Fit the simulated observation\n",
    "    input_data = dict(N = N, y = simu_y)\n",
    "    \n",
    "    fit = fit_model.sampling(data=input_data, seed=4938483, n_jobs=1)\n",
    "    \n",
    "    # Compute diagnostics\n",
    "    warning_code = stan_utility.check_all_diagnostics(fit, quiet=True)\n",
    "    \n",
    "    # Compute rank of prior draw with respect to thinned posterior draws\n",
    "    thinned_l = fit.extract()['lambda'][numpy.arange(0, 4000 - 7, 8)]\n",
    "    sbc_rank_l = len(filter(lambda x: x > simu_l, thinned_l))\n",
    "    \n",
    "    thinned_t = fit.extract()['theta'][numpy.arange(0, 4000 - 7, 8)]\n",
    "    sbc_rank_t = len(filter(lambda x: x > simu_t, thinned_t))\n",
    "    \n",
    "    # Compute posterior sensitivities\n",
    "    summary = fit.summary(pars=\"lambda\", probs=[0.5])\n",
    "    post_mean_l = [x[0] for x in summary['summary']][0]\n",
    "    post_sd_l = [x[2] for x in summary['summary']][0]\n",
    "    \n",
    "    prior_sd_l = math.sqrt( (9.21604)**2 / ((3.48681 - 1)**2 * (3.48681 - 1)) )\n",
    "    \n",
    "    z_score_l = (post_mean_l - simu_l) / post_sd_l\n",
    "    shrinkage_l = 1 - (post_sd_l / prior_sd_l)**2\n",
    "    \n",
    "    summary = fit.summary(pars=\"theta\", probs=[0.5])\n",
    "    post_mean_t = [x[0] for x in summary['summary']][0]\n",
    "    post_sd_t = [x[2] for x in summary['summary']][0]\n",
    "    \n",
    "    prior_sd_t = math.sqrt( (2.8663)**2 / (4 * (2.8663)**2 * (2 * 2.8663 + 1)) )\n",
    "    \n",
    "    z_score_t = (post_mean_t - simu_t) / post_sd_t\n",
    "    shrinkage_t = 1 - (post_sd_t / prior_sd_t)**2\n",
    "        \n",
    "    return [warning_code, sbc_rank_l, z_score_l, shrinkage_l,\n",
    "                          sbc_rank_t, z_score_t, shrinkage_t]"
   ]
  },
  {
   "cell_type": "code",
   "execution_count": 82,
   "metadata": {
    "collapsed": true
   },
   "outputs": [],
   "source": [
    "pool = multiprocessing.Pool(4)\n",
    "ensemble_output = pool.map(analyze_simu, simus)"
   ]
  },
  {
   "cell_type": "markdown",
   "metadata": {},
   "source": [
    "Happily, the diagnostics all look clean."
   ]
  },
  {
   "cell_type": "code",
   "execution_count": 83,
   "metadata": {
    "collapsed": false
   },
   "outputs": [
    {
     "name": "stdout",
     "output_type": "stream",
     "text": [
      "Some posterior fits in the generative ensemble encountered problems!\n",
      "Replication 842 of 1000\n",
      "Simulated lambda = 13.4972749431\n",
      "Simulated theta = 0.216527830036\n",
      "treedepth warning\n",
      "\n"
     ]
    }
   ],
   "source": [
    "warning_codes = [x[0] for x in ensemble_output]\n",
    "if sum(warning_codes) is not 0:\n",
    "    print (\"Some posterior fits in the generative \" +\n",
    "           \"ensemble encountered problems!\")\n",
    "    for r in range(R):\n",
    "        if warning_codes[r] is not 0:\n",
    "            print('Replication {} of {}'.format(r, R))\n",
    "            print('Simulated lambda = {}'.format(simu_lambdas[r]))\n",
    "            print('Simulated theta = {}'.format(simu_thetas[r]))\n",
    "            stan_utility.parse_warning_code(warning_codes[r])\n",
    "            print(\"\")\n",
    "else:\n",
    "    print (\"No posterior fits in the generative \" +\n",
    "           \"ensemble encountered problems!\")"
   ]
  },
  {
   "cell_type": "markdown",
   "metadata": {},
   "source": [
    "#### Implement Simulated-Based Calibration\n",
    "\n",
    "Similarly the simulation-based calibration histograms exhibit no problematic\n",
    "behavior."
   ]
  },
  {
   "cell_type": "code",
   "execution_count": 84,
   "metadata": {
    "collapsed": false
   },
   "outputs": [
    {
     "data": {
      "image/png": "[encoded data removed]",
      "text/plain": [
       "<matplotlib.figure.Figure at 0x111ba4890>"
      ]
     },
     "metadata": {},
     "output_type": "display_data"
    }
   ],
   "source": [
    "sbc_low = stats.binom.ppf(0.005, R, 25.0 / 500)\n",
    "sbc_mid = stats.binom.ppf(0.5, R, 25.0 / 500)\n",
    "sbc_high = stats.binom.ppf(0.995, R, 25.0 / 500)\n",
    "\n",
    "bar_x = [-10, 510, 500, 510, -10, 0, -10]\n",
    "bar_y = [sbc_high, sbc_high, sbc_mid, sbc_low, sbc_low, sbc_mid, sbc_high]\n",
    "\n",
    "plot.fill(bar_x, bar_y, color=\"#DDDDDD\", ec=\"#DDDDDD\")\n",
    "plot.plot([0, 500], [sbc_mid, sbc_mid], color=\"#999999\", linewidth=2)\n",
    "\n",
    "sbc_ranks = [x[1] for x in ensemble_output]\n",
    "\n",
    "plot.hist(sbc_ranks, bins=[25 * x - 0.5 for x in range(21)],\n",
    "          color=dark, ec=dark_highlight, zorder=3)\n",
    "\n",
    "plot.gca().set_xlabel(\"Prior Rank (Lambda)\")\n",
    "plot.gca().set_xlim(-10, 510)\n",
    "plot.gca().axes.get_yaxis().set_visible(False)\n",
    "\n",
    "plot.show()"
   ]
  },
  {
   "cell_type": "code",
   "execution_count": 85,
   "metadata": {
    "collapsed": false
   },
   "outputs": [
    {
     "data": {
      "image/png": "[encoded data removed]",
      "text/plain": [
       "<matplotlib.figure.Figure at 0x112213d10>"
      ]
     },
     "metadata": {},
     "output_type": "display_data"
    }
   ],
   "source": [
    "plot.fill(bar_x, bar_y, color=\"#DDDDDD\", ec=\"#DDDDDD\")\n",
    "plot.plot([0, 500], [sbc_mid, sbc_mid], color=\"#999999\", linewidth=2)\n",
    "\n",
    "sbc_ranks = [x[4] for x in ensemble_output]\n",
    "\n",
    "plot.hist(sbc_ranks, bins=[25 * x - 0.5 for x in range(21)],\n",
    "          color=dark, ec=dark_highlight, zorder=3)\n",
    "\n",
    "plot.gca().set_xlabel(\"Prior Rank (Theta)\")\n",
    "plot.gca().set_xlim(-10, 510)\n",
    "plot.gca().axes.get_yaxis().set_visible(False)\n",
    "\n",
    "plot.show()"
   ]
  },
  {
   "cell_type": "markdown",
   "metadata": {},
   "source": [
    "Moreover, the recovered posteriors for each fit perform reasonable well."
   ]
  },
  {
   "cell_type": "code",
   "execution_count": 86,
   "metadata": {
    "collapsed": false
   },
   "outputs": [
    {
     "data": {
      "image/png": "[encoded data removed]",
      "text/plain": [
       "<matplotlib.figure.Figure at 0x112213bd0>"
      ]
     },
     "metadata": {},
     "output_type": "display_data"
    }
   ],
   "source": [
    "z_scores = [x[2] for x in ensemble_output]\n",
    "shrinkages = [x[3] for x in ensemble_output]\n",
    "\n",
    "plot.scatter(shrinkages, z_scores, color=dark, alpha=0.2)\n",
    "plot.gca().set_xlabel(\"Posterior Shrinkage\")\n",
    "plot.gca().set_xlim(0, 1)\n",
    "plot.gca().set_ylabel(\"Posterior z-Score\")\n",
    "plot.gca().set_ylim(-5, 5)\n",
    "plot.title(\"Lambda\")\n",
    "\n",
    "plot.show()"
   ]
  },
  {
   "cell_type": "code",
   "execution_count": 87,
   "metadata": {
    "collapsed": false
   },
   "outputs": [
    {
     "data": {
      "image/png": "[encoded data removed]",
      "text/plain": [
       "<matplotlib.figure.Figure at 0x1152aa5d0>"
      ]
     },
     "metadata": {},
     "output_type": "display_data"
    }
   ],
   "source": [
    "z_scores = [x[5] for x in ensemble_output]\n",
    "shrinkages = [x[6] for x in ensemble_output]\n",
    "\n",
    "plot.scatter(shrinkages, z_scores, color=dark, alpha=0.2)\n",
    "plot.gca().set_xlabel(\"Posterior Shrinkage\")\n",
    "plot.gca().set_xlim(0, 1)\n",
    "plot.gca().set_ylabel(\"Posterior z-Score\")\n",
    "plot.gca().set_ylim(-5, 5)\n",
    "plot.title(\"Theta\")\n",
    "\n",
    "plot.show()"
   ]
  },
  {
   "cell_type": "markdown",
   "metadata": {},
   "source": [
    "### Step Seven: Fit the Observations and Evaluate\n",
    "\n",
    "Exhausted, we march on to fit the observed data."
   ]
  },
  {
   "cell_type": "code",
   "execution_count": 4,
   "metadata": {
    "collapsed": false
   },
   "outputs": [
    {
     "name": "stdout",
     "output_type": "stream",
     "text": [
      "Using cached StanModel\n"
     ]
    }
   ],
   "source": [
    "model = stan_utility.compile_model('fit_data4_ppc.stan')\n",
    "fit = model.sampling(data=data, seed=4838282)"
   ]
  },
  {
   "cell_type": "markdown",
   "metadata": {},
   "source": [
    "The diagnostics are clean,"
   ]
  },
  {
   "cell_type": "code",
   "execution_count": 5,
   "metadata": {
    "collapsed": false
   },
   "outputs": [
    {
     "name": "stdout",
     "output_type": "stream",
     "text": [
      "n_eff / iter looks reasonable for all parameters\n",
      "Rhat looks reasonable for all parameters\n",
      "0.0 of 4000 iterations ended with a divergence (0.0%)\n",
      "0 of 4000 iterations saturated the maximum tree depth of 10 (0%)\n",
      "E-BFMI indicated no pathological behavior\n"
     ]
    }
   ],
   "source": [
    "stan_utility.check_all_diagnostics(fit)"
   ]
  },
  {
   "cell_type": "markdown",
   "metadata": {},
   "source": [
    "and the marginal posteriors are reasonable."
   ]
  },
  {
   "cell_type": "code",
   "execution_count": 6,
   "metadata": {
    "collapsed": false
   },
   "outputs": [
    {
     "data": {
      "image/png": "[encoded data removed]",
      "text/plain": [
       "<matplotlib.figure.Figure at 0x106a03110>"
      ]
     },
     "metadata": {},
     "output_type": "display_data"
    }
   ],
   "source": [
    "params = fit.extract()\n",
    "\n",
    "f, axarr = plot.subplots(1, 2)\n",
    "    \n",
    "axarr[0].set_title(\"lambda\")\n",
    "axarr[0].hist(params['lambda'], bins = 25, color = dark, ec = dark_highlight)\n",
    "axarr[0].get_yaxis().set_visible(False)\n",
    "\n",
    "axarr[1].set_title(\"theta\")\n",
    "axarr[1].hist(params['theta'], bins = 25, color = dark, ec = dark_highlight)\n",
    "axarr[1].get_yaxis().set_visible(False)\n",
    "\n",
    "plot.show()"
   ]
  },
  {
   "cell_type": "markdown",
   "metadata": {},
   "source": [
    "### Step Eight: Analyze the Posterior Predictive Distribution\n",
    "\n",
    "Anxiously we move on to the posterior predictive check."
   ]
  },
  {
   "cell_type": "code",
   "execution_count": 7,
   "metadata": {
    "collapsed": false
   },
   "outputs": [
    {
     "data": {
      "image/png": "[encoded data removed]",
      "text/plain": [
       "<matplotlib.figure.Figure at 0x106a03210>"
      ]
     },
     "metadata": {},
     "output_type": "display_data"
    }
   ],
   "source": [
    "max_y = 20\n",
    "B = max_y + 1\n",
    "\n",
    "bins = [b - 0.5 for b in range(B + 1)]\n",
    "\n",
    "idxs = [ idx for idx in range(B) for r in range(2) ]\n",
    "xs = [ idx + delta for idx in range(B) for delta in [-0.5, 0.5]]\n",
    "      \n",
    "obs_counts = numpy.histogram(data['y'], bins=bins)[0]\n",
    "pad_obs_counts = [ obs_counts[idx] for idx in idxs ]\n",
    "\n",
    "counts = [numpy.histogram(params['y_ppc'][n], bins=bins)[0] for n in range(4000)]\n",
    "probs = [10, 20, 30, 40, 50, 60, 70, 80, 90]\n",
    "creds = [numpy.percentile([count[b] for count in counts], probs)\n",
    "         for b in range(B)]\n",
    "\n",
    "pad_creds = [ creds[idx] for idx in idxs ]\n",
    "\n",
    "plot.fill_between(xs, [c[0] for c in pad_creds], [c[8] for c in pad_creds],\n",
    "                  facecolor=light, color=light)\n",
    "plot.fill_between(xs, [c[1] for c in pad_creds], [c[7] for c in pad_creds],\n",
    "                  facecolor=light_highlight, color=light_highlight)\n",
    "plot.fill_between(xs, [c[2] for c in pad_creds], [c[6] for c in pad_creds],\n",
    "                  facecolor=mid, color=mid)\n",
    "plot.fill_between(xs, [c[3] for c in pad_creds], [c[5] for c in pad_creds],\n",
    "                  facecolor=mid_highlight, color=mid_highlight)\n",
    "plot.plot(xs, [c[4] for c in pad_creds], color=dark)\n",
    "\n",
    "plot.plot(xs, pad_obs_counts, linewidth=2.5, color=\"white\")\n",
    "plot.plot(xs, pad_obs_counts, linewidth=2.0, color=\"black\")\n",
    "\n",
    "plot.gca().set_xlim([min(bins), max(bins)])\n",
    "plot.gca().set_xlabel(\"y\")\n",
    "plot.gca().set_ylim([0, max(max(obs_counts), max([c[8] for c in creds]))])\n",
    "plot.gca().set_ylabel(\"Posterior Predictive Distribution\")\n",
    "\n",
    "plot.show()"
   ]
  },
  {
   "cell_type": "markdown",
   "metadata": {},
   "source": [
    "And finally we see no tension between the observed data and the posterior \n",
    "predictive distribution.  After a few attempts we have a model that captures the \n",
    "intricacies of our observed data!\n",
    "\n",
    "Satisfied in our detector detective work we send out the results to our\n",
    "colleagues and start drafting a note instructing students what to do when the\n",
    "detectors do not report any counts at all.\n",
    "\n",
    "# Discussion\n",
    "\n",
    "By very carefully following a principled Bayesian workflow we were able to\n",
    "answer the questions proposed in [Section Two](#Questioning-Authority) and develop a\n",
    "model that incorporates enough domain expertise to achieve a reasonable fit to\n",
    "our observed data.  Indeed the progression of the workflow itself helped to\n",
    "inform which domain expertise we need to incorporate, and in particular when we\n",
    "needed to follow up with colleagues to better understand the circumstances of\n",
    "the experiment.  By minding this domain expertise, and not simply fitting to the\n",
    "potentially irrelevant details of the observed data, we ensured a final model\n",
    "that is robust to overfitting and should generalize well to application on new\n",
    "observations.\n",
    "\n",
    "That said, this workflow makes no claim that the final model is correct in any\n",
    "absolute sense.  Our ability to critique the model is limited by the specific\n",
    "questions we ask and the information encoded in the observed data.  Indeed more\n",
    "thorough questions or additional data might demonstrate limitations of our\n",
    "concluding model and the need for further iterations.  Our detectors, for\n",
    "example, may not have identical responses, and those individual responses may \n",
    "not be so static in time.  Similarly the source being measured may not emit \n",
    "particles uniformly in time or space.  A principled workflow doesn't yield the \n",
    "correct model but rather a model that meets the needs of a given inferential \n",
    "task.\n",
    "\n",
    "While the workflow is structured, it is not automatic and requires careful and\n",
    "customized consideration of the available domain expertise in the scope of the \n",
    "modeling assumptions at each step.  Moreover the workflow isn't cheap, requiring\n",
    "significant computational resources to fully exploit it even on this relatively\n",
    "simple example.  That investment of time and resources, however, provides a\n",
    "powerful model robust to many of the pathologies that can lead to biased\n",
    "inferences and faulty scientific insights.\n",
    "\n",
    "# Acknowledgements\n",
    "\n",
    "I thank Sean Talts, Marc Dotson, and Tomi Peltola for helpful comments as well\n",
    "as the feedback from those who have attended my courses and talks.\n",
    "\n",
    "A very special thanks to everyone supporting me on Patreon: Aki Vehtari, Austin \n",
    "Rochford, Bo Schwartz Madsen, Cat Shark, Charles Naylor, Colin Carroll, Daniel \n",
    "Simpson, David Pascall, David Roher, Elad Berkman, Finn Lindgren, Granville \n",
    "Matheson, Hernan Bruno, J Michael Burgess, Joel Kronander, Jonas Beltoft \n",
    "Gehrlein, Joshua Mayer, Justin Bois, Lars Barquist, Marek Kwiatkowski,\n",
    "Maurits van der Meer, Maxim Kesin, Michael Dillon, Ole Rogeberg, Oscar Olvera,\n",
    "Riccardo Fusaroli, Richard Torkar, Sam Petulla, Sam Zorowitz, Seo-young Kim,\n",
    "Seth Axen, Simon Duane, Stephen Oates, Stijn, and Vladislavs Dovgalecs.\n",
    "\n",
    "# References\n",
    "\n",
    "Betancourt, Michael. 2015. “A Unified Treatment of Predictive Model Comparison,” June.\n",
    "\n",
    "———. 2018. “Calibrating Model-Based Inferences and Decisions,” March.\n",
    "\n",
    "Gabry, Jonah, Daniel Simpson, Aki Vehtari, Michael Betancourt, and Andrew Gelman. 2017. “Visualization in Bayesian Workflow,” September.\n",
    "\n",
    "Gelman, Andrew, Daniel Simpson, and Michael Betancourt. 2017. “The Prior Can Generally Only Be Understood in the Context of the Likelihood,” August.\n",
    "\n",
    "Good, I.J. 1950. Probability and the Weighing of Evidence. New York: Hafners.\n",
    "\n",
    "Rubin, Donald B. 1984. “Bayesianly Justifiable and Relevant Frequency Calculations for the Applied Statistician.” Ann. Statist. 12 (4): 1151–72.\n",
    "\n",
    "Simpson, Daniel, Håvard Rue, Andrea Riebler, Thiago G. Martins, and Sigrunn H. Sørbye. 2017. “Penalising Model Component Complexity: A Principled, Practical Approach to Constructing Priors.” Statist. Sci. 32 (1): 1–28.\n",
    "\n",
    "Talts, Sean, Michael Betancourt, Daniel Simpson, Aki Vehtari, and Andrew Gelman. 2018. “Validating Bayesian Inference Algorithms with Simulation-Based Calibration,” April."
   ]
  },
  {
   "cell_type": "code",
   "execution_count": null,
   "metadata": {
    "collapsed": true
   },
   "outputs": [],
   "source": []
  }
 ],
 "metadata": {
  "anaconda-cloud": {},
  "kernelspec": {
   "display_name": "Python [conda root]",
   "language": "python",
   "name": "conda-root-py"
  },
  "language_info": {
   "codemirror_mode": {
    "name": "ipython",
    "version": 2
   },
   "file_extension": ".py",
   "mimetype": "text/x-python",
   "name": "python",
   "nbconvert_exporter": "python",
   "pygments_lexer": "ipython2",
   "version": "2.7.12"
  }
 },
 "nbformat": 4,
 "nbformat_minor": 1
}
